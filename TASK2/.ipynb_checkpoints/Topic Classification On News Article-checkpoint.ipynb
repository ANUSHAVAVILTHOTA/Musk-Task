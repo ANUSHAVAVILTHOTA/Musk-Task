{
 "cells": [
  {
   "cell_type": "code",
   "execution_count": 1,
   "metadata": {
    "colab": {
     "base_uri": "https://localhost:8080/",
     "height": 124
    },
    "colab_type": "code",
    "executionInfo": {
     "elapsed": 57382,
     "status": "ok",
     "timestamp": 1594994963579,
     "user": {
      "displayName": "anusha v",
      "photoUrl": "https://lh3.googleusercontent.com/a-/AOh14GgZOHZnH7woOeTE5crsmBvCLeUnsZDsZVcN3kGuHw=s64",
      "userId": "13463040459709364978"
     },
     "user_tz": -330
    },
    "id": "LH1x5VKBFjj6",
    "outputId": "38b3112d-9366-4134-84d8-992371449776"
   },
   "outputs": [
    {
     "name": "stdout",
     "output_type": "stream",
     "text": [
      "Go to this URL in a browser: https://accounts.google.com/o/oauth2/auth?client_id=947318989803-6bn6qk8qdgf4n4g3pfee6491hc0brc4i.apps.googleusercontent.com&redirect_uri=urn%3aietf%3awg%3aoauth%3a2.0%3aoob&response_type=code&scope=email%20https%3a%2f%2fwww.googleapis.com%2fauth%2fdocs.test%20https%3a%2f%2fwww.googleapis.com%2fauth%2fdrive%20https%3a%2f%2fwww.googleapis.com%2fauth%2fdrive.photos.readonly%20https%3a%2f%2fwww.googleapis.com%2fauth%2fpeopleapi.readonly\n",
      "\n",
      "Enter your authorization code:\n",
      "··········\n",
      "Mounted at /content/gdrive\n"
     ]
    }
   ],
   "source": [
    "from google.colab import drive\n",
    "drive.mount('/content/gdrive')"
   ]
  },
  {
   "cell_type": "code",
   "execution_count": 46,
   "metadata": {
    "colab": {
     "base_uri": "https://localhost:8080/",
     "height": 206
    },
    "colab_type": "code",
    "executionInfo": {
     "elapsed": 1595,
     "status": "ok",
     "timestamp": 1595000459418,
     "user": {
      "displayName": "anusha v",
      "photoUrl": "https://lh3.googleusercontent.com/a-/AOh14GgZOHZnH7woOeTE5crsmBvCLeUnsZDsZVcN3kGuHw=s64",
      "userId": "13463040459709364978"
     },
     "user_tz": -330
    },
    "id": "GDHZZwMGHBtu",
    "outputId": "7b795828-9c20-497d-ab2e-93e8ada85514"
   },
   "outputs": [
    {
     "data": {
      "text/html": [
       "<div>\n",
       "<style scoped>\n",
       "    .dataframe tbody tr th:only-of-type {\n",
       "        vertical-align: middle;\n",
       "    }\n",
       "\n",
       "    .dataframe tbody tr th {\n",
       "        vertical-align: top;\n",
       "    }\n",
       "\n",
       "    .dataframe thead th {\n",
       "        text-align: right;\n",
       "    }\n",
       "</style>\n",
       "<table border=\"1\" class=\"dataframe\">\n",
       "  <thead>\n",
       "    <tr style=\"text-align: right;\">\n",
       "      <th></th>\n",
       "      <th>ArticleId</th>\n",
       "      <th>Text</th>\n",
       "      <th>Category</th>\n",
       "    </tr>\n",
       "  </thead>\n",
       "  <tbody>\n",
       "    <tr>\n",
       "      <th>0</th>\n",
       "      <td>1833</td>\n",
       "      <td>worldcom ex-boss launches defence lawyers defe...</td>\n",
       "      <td>business</td>\n",
       "    </tr>\n",
       "    <tr>\n",
       "      <th>1</th>\n",
       "      <td>154</td>\n",
       "      <td>german business confidence slides german busin...</td>\n",
       "      <td>business</td>\n",
       "    </tr>\n",
       "    <tr>\n",
       "      <th>2</th>\n",
       "      <td>1101</td>\n",
       "      <td>bbc poll indicates economic gloom citizens in ...</td>\n",
       "      <td>business</td>\n",
       "    </tr>\n",
       "    <tr>\n",
       "      <th>3</th>\n",
       "      <td>1976</td>\n",
       "      <td>lifestyle  governs mobile choice  faster  bett...</td>\n",
       "      <td>tech</td>\n",
       "    </tr>\n",
       "    <tr>\n",
       "      <th>4</th>\n",
       "      <td>917</td>\n",
       "      <td>enron bosses in $168m payout eighteen former e...</td>\n",
       "      <td>business</td>\n",
       "    </tr>\n",
       "  </tbody>\n",
       "</table>\n",
       "</div>"
      ],
      "text/plain": [
       "   ArticleId                                               Text  Category\n",
       "0       1833  worldcom ex-boss launches defence lawyers defe...  business\n",
       "1        154  german business confidence slides german busin...  business\n",
       "2       1101  bbc poll indicates economic gloom citizens in ...  business\n",
       "3       1976  lifestyle  governs mobile choice  faster  bett...      tech\n",
       "4        917  enron bosses in $168m payout eighteen former e...  business"
      ]
     },
     "execution_count": 46,
     "metadata": {
      "tags": []
     },
     "output_type": "execute_result"
    }
   ],
   "source": [
    "import pandas as pd\n",
    "df=pd.read_csv('gdrive/My Drive/BBC News Train.csv')\n",
    "df.head()"
   ]
  },
  {
   "cell_type": "code",
   "execution_count": 47,
   "metadata": {
    "colab": {
     "base_uri": "https://localhost:8080/",
     "height": 139
    },
    "colab_type": "code",
    "executionInfo": {
     "elapsed": 1563,
     "status": "ok",
     "timestamp": 1595000465174,
     "user": {
      "displayName": "anusha v",
      "photoUrl": "https://lh3.googleusercontent.com/a-/AOh14GgZOHZnH7woOeTE5crsmBvCLeUnsZDsZVcN3kGuHw=s64",
      "userId": "13463040459709364978"
     },
     "user_tz": -330
    },
    "id": "WN_eEge1bRz-",
    "outputId": "d96a6097-ec84-4384-de92-84a6ddea6578"
   },
   "outputs": [
    {
     "data": {
      "text/plain": [
       "Category\n",
       "business         336\n",
       "entertainment    273\n",
       "politics         274\n",
       "sport            346\n",
       "tech             261\n",
       "dtype: int64"
      ]
     },
     "execution_count": 47,
     "metadata": {
      "tags": []
     },
     "output_type": "execute_result"
    }
   ],
   "source": [
    "cates=df.groupby('Category')\n",
    "cates.ngroups\n",
    "cates.size()"
   ]
  },
  {
   "cell_type": "code",
   "execution_count": 48,
   "metadata": {
    "colab": {
     "base_uri": "https://localhost:8080/",
     "height": 424
    },
    "colab_type": "code",
    "executionInfo": {
     "elapsed": 1379,
     "status": "ok",
     "timestamp": 1595000473187,
     "user": {
      "displayName": "anusha v",
      "photoUrl": "https://lh3.googleusercontent.com/a-/AOh14GgZOHZnH7woOeTE5crsmBvCLeUnsZDsZVcN3kGuHw=s64",
      "userId": "13463040459709364978"
     },
     "user_tz": -330
    },
    "id": "w8XU2-XIMvBs",
    "outputId": "88ff6b60-cc15-40a5-bee6-5ec70921aed5"
   },
   "outputs": [
    {
     "data": {
      "text/html": [
       "<div>\n",
       "<style scoped>\n",
       "    .dataframe tbody tr th:only-of-type {\n",
       "        vertical-align: middle;\n",
       "    }\n",
       "\n",
       "    .dataframe tbody tr th {\n",
       "        vertical-align: top;\n",
       "    }\n",
       "\n",
       "    .dataframe thead th {\n",
       "        text-align: right;\n",
       "    }\n",
       "</style>\n",
       "<table border=\"1\" class=\"dataframe\">\n",
       "  <thead>\n",
       "    <tr style=\"text-align: right;\">\n",
       "      <th></th>\n",
       "      <th>ArticleId</th>\n",
       "      <th>Text</th>\n",
       "      <th>Category</th>\n",
       "    </tr>\n",
       "  </thead>\n",
       "  <tbody>\n",
       "    <tr>\n",
       "      <th>0</th>\n",
       "      <td>1833</td>\n",
       "      <td>worldcom ex-boss launches defence lawyers defe...</td>\n",
       "      <td>1</td>\n",
       "    </tr>\n",
       "    <tr>\n",
       "      <th>1</th>\n",
       "      <td>154</td>\n",
       "      <td>german business confidence slides german busin...</td>\n",
       "      <td>1</td>\n",
       "    </tr>\n",
       "    <tr>\n",
       "      <th>2</th>\n",
       "      <td>1101</td>\n",
       "      <td>bbc poll indicates economic gloom citizens in ...</td>\n",
       "      <td>1</td>\n",
       "    </tr>\n",
       "    <tr>\n",
       "      <th>3</th>\n",
       "      <td>1976</td>\n",
       "      <td>lifestyle  governs mobile choice  faster  bett...</td>\n",
       "      <td>2</td>\n",
       "    </tr>\n",
       "    <tr>\n",
       "      <th>4</th>\n",
       "      <td>917</td>\n",
       "      <td>enron bosses in $168m payout eighteen former e...</td>\n",
       "      <td>1</td>\n",
       "    </tr>\n",
       "    <tr>\n",
       "      <th>...</th>\n",
       "      <td>...</td>\n",
       "      <td>...</td>\n",
       "      <td>...</td>\n",
       "    </tr>\n",
       "    <tr>\n",
       "      <th>1485</th>\n",
       "      <td>857</td>\n",
       "      <td>double eviction from big brother model caprice...</td>\n",
       "      <td>5</td>\n",
       "    </tr>\n",
       "    <tr>\n",
       "      <th>1486</th>\n",
       "      <td>325</td>\n",
       "      <td>dj double act revamp chart show dj duo jk and ...</td>\n",
       "      <td>5</td>\n",
       "    </tr>\n",
       "    <tr>\n",
       "      <th>1487</th>\n",
       "      <td>1590</td>\n",
       "      <td>weak dollar hits reuters revenues at media gro...</td>\n",
       "      <td>1</td>\n",
       "    </tr>\n",
       "    <tr>\n",
       "      <th>1488</th>\n",
       "      <td>1587</td>\n",
       "      <td>apple ipod family expands market apple has exp...</td>\n",
       "      <td>2</td>\n",
       "    </tr>\n",
       "    <tr>\n",
       "      <th>1489</th>\n",
       "      <td>538</td>\n",
       "      <td>santy worm makes unwelcome visit thousands of ...</td>\n",
       "      <td>2</td>\n",
       "    </tr>\n",
       "  </tbody>\n",
       "</table>\n",
       "<p>1490 rows × 3 columns</p>\n",
       "</div>"
      ],
      "text/plain": [
       "      ArticleId                                               Text  Category\n",
       "0          1833  worldcom ex-boss launches defence lawyers defe...         1\n",
       "1           154  german business confidence slides german busin...         1\n",
       "2          1101  bbc poll indicates economic gloom citizens in ...         1\n",
       "3          1976  lifestyle  governs mobile choice  faster  bett...         2\n",
       "4           917  enron bosses in $168m payout eighteen former e...         1\n",
       "...         ...                                                ...       ...\n",
       "1485        857  double eviction from big brother model caprice...         5\n",
       "1486        325  dj double act revamp chart show dj duo jk and ...         5\n",
       "1487       1590  weak dollar hits reuters revenues at media gro...         1\n",
       "1488       1587  apple ipod family expands market apple has exp...         2\n",
       "1489        538  santy worm makes unwelcome visit thousands of ...         2\n",
       "\n",
       "[1490 rows x 3 columns]"
      ]
     },
     "execution_count": 48,
     "metadata": {
      "tags": []
     },
     "output_type": "execute_result"
    }
   ],
   "source": [
    "import string\n",
    "df['Category']=df.Category.map({'business':1,'tech':2,'politics':3,'sport':4,'entertainment':5})\n",
    "df"
   ]
  },
  {
   "cell_type": "code",
   "execution_count": 49,
   "metadata": {
    "colab": {
     "base_uri": "https://localhost:8080/",
     "height": 206
    },
    "colab_type": "code",
    "executionInfo": {
     "elapsed": 1579,
     "status": "ok",
     "timestamp": 1595000482133,
     "user": {
      "displayName": "anusha v",
      "photoUrl": "https://lh3.googleusercontent.com/a-/AOh14GgZOHZnH7woOeTE5crsmBvCLeUnsZDsZVcN3kGuHw=s64",
      "userId": "13463040459709364978"
     },
     "user_tz": -330
    },
    "id": "pUg8fQ3gPOOJ",
    "outputId": "d71884af-1922-4a1a-e6a8-191aa3e64581"
   },
   "outputs": [
    {
     "data": {
      "text/html": [
       "<div>\n",
       "<style scoped>\n",
       "    .dataframe tbody tr th:only-of-type {\n",
       "        vertical-align: middle;\n",
       "    }\n",
       "\n",
       "    .dataframe tbody tr th {\n",
       "        vertical-align: top;\n",
       "    }\n",
       "\n",
       "    .dataframe thead th {\n",
       "        text-align: right;\n",
       "    }\n",
       "</style>\n",
       "<table border=\"1\" class=\"dataframe\">\n",
       "  <thead>\n",
       "    <tr style=\"text-align: right;\">\n",
       "      <th></th>\n",
       "      <th>ArticleId</th>\n",
       "      <th>Text</th>\n",
       "      <th>Category</th>\n",
       "    </tr>\n",
       "  </thead>\n",
       "  <tbody>\n",
       "    <tr>\n",
       "      <th>0</th>\n",
       "      <td>1833</td>\n",
       "      <td>worldcom exboss launches defence lawyers defen...</td>\n",
       "      <td>1</td>\n",
       "    </tr>\n",
       "    <tr>\n",
       "      <th>1</th>\n",
       "      <td>154</td>\n",
       "      <td>german business confidence slides german busin...</td>\n",
       "      <td>1</td>\n",
       "    </tr>\n",
       "    <tr>\n",
       "      <th>2</th>\n",
       "      <td>1101</td>\n",
       "      <td>bbc poll indicates economic gloom citizens in ...</td>\n",
       "      <td>1</td>\n",
       "    </tr>\n",
       "    <tr>\n",
       "      <th>3</th>\n",
       "      <td>1976</td>\n",
       "      <td>lifestyle  governs mobile choice  faster  bett...</td>\n",
       "      <td>2</td>\n",
       "    </tr>\n",
       "    <tr>\n",
       "      <th>4</th>\n",
       "      <td>917</td>\n",
       "      <td>enron bosses in 168m payout eighteen former en...</td>\n",
       "      <td>1</td>\n",
       "    </tr>\n",
       "  </tbody>\n",
       "</table>\n",
       "</div>"
      ],
      "text/plain": [
       "   ArticleId                                               Text  Category\n",
       "0       1833  worldcom exboss launches defence lawyers defen...         1\n",
       "1        154  german business confidence slides german busin...         1\n",
       "2       1101  bbc poll indicates economic gloom citizens in ...         1\n",
       "3       1976  lifestyle  governs mobile choice  faster  bett...         2\n",
       "4        917  enron bosses in 168m payout eighteen former en...         1"
      ]
     },
     "execution_count": 49,
     "metadata": {
      "tags": []
     },
     "output_type": "execute_result"
    }
   ],
   "source": [
    "df['Text']=df.Text.map(lambda x: x.lower().translate(str.maketrans('','',string.punctuation)))\n",
    "df.head()"
   ]
  },
  {
   "cell_type": "code",
   "execution_count": 50,
   "metadata": {
    "colab": {},
    "colab_type": "code",
    "executionInfo": {
     "elapsed": 1337,
     "status": "ok",
     "timestamp": 1595000488305,
     "user": {
      "displayName": "anusha v",
      "photoUrl": "https://lh3.googleusercontent.com/a-/AOh14GgZOHZnH7woOeTE5crsmBvCLeUnsZDsZVcN3kGuHw=s64",
      "userId": "13463040459709364978"
     },
     "user_tz": -330
    },
    "id": "EmIh0nzDPqy2"
   },
   "outputs": [],
   "source": [
    "from sklearn.model_selection import train_test_split\n",
    "x_train,x_test,y_train,y_test = train_test_split(df['Text'],df['Category'],random_state=1)"
   ]
  },
  {
   "cell_type": "code",
   "execution_count": 52,
   "metadata": {
    "colab": {
     "base_uri": "https://localhost:8080/",
     "height": 34
    },
    "colab_type": "code",
    "executionInfo": {
     "elapsed": 1260,
     "status": "ok",
     "timestamp": 1595000508152,
     "user": {
      "displayName": "anusha v",
      "photoUrl": "https://lh3.googleusercontent.com/a-/AOh14GgZOHZnH7woOeTE5crsmBvCLeUnsZDsZVcN3kGuHw=s64",
      "userId": "13463040459709364978"
     },
     "user_tz": -330
    },
    "id": "LCTrciM6QQ-j",
    "outputId": "ff04f43c-69f4-4b80-fac0-a2b85609a54e"
   },
   "outputs": [
    {
     "data": {
      "text/plain": [
       "(1490, 3)"
      ]
     },
     "execution_count": 52,
     "metadata": {
      "tags": []
     },
     "output_type": "execute_result"
    }
   ],
   "source": [
    "df.shape"
   ]
  },
  {
   "cell_type": "code",
   "execution_count": 60,
   "metadata": {
    "colab": {},
    "colab_type": "code",
    "executionInfo": {
     "elapsed": 2074,
     "status": "ok",
     "timestamp": 1595001111887,
     "user": {
      "displayName": "anusha v",
      "photoUrl": "https://lh3.googleusercontent.com/a-/AOh14GgZOHZnH7woOeTE5crsmBvCLeUnsZDsZVcN3kGuHw=s64",
      "userId": "13463040459709364978"
     },
     "user_tz": -330
    },
    "id": "nZjMiHLda84D"
   },
   "outputs": [],
   "source": [
    "from sklearn.feature_extraction.text import CountVectorizer\n",
    "cv=CountVectorizer(stop_words='english')\n",
    "train_data=count_vector.fit_transform(x_train)\n",
    "test_data=count_vector.transform(x_test)"
   ]
  },
  {
   "cell_type": "code",
   "execution_count": 61,
   "metadata": {
    "colab": {
     "base_uri": "https://localhost:8080/",
     "height": 34
    },
    "colab_type": "code",
    "executionInfo": {
     "elapsed": 1498,
     "status": "ok",
     "timestamp": 1595001115001,
     "user": {
      "displayName": "anusha v",
      "photoUrl": "https://lh3.googleusercontent.com/a-/AOh14GgZOHZnH7woOeTE5crsmBvCLeUnsZDsZVcN3kGuHw=s64",
      "userId": "13463040459709364978"
     },
     "user_tz": -330
    },
    "id": "EnWVImI2domU",
    "outputId": "d1e4f4e1-8fe3-46b2-b92b-8652c23ef342"
   },
   "outputs": [
    {
     "data": {
      "text/plain": [
       "MultinomialNB(alpha=1.0, class_prior=None, fit_prior=True)"
      ]
     },
     "execution_count": 61,
     "metadata": {
      "tags": []
     },
     "output_type": "execute_result"
    }
   ],
   "source": [
    "from sklearn.naive_bayes import MultinomialNB\n",
    "\n",
    "bayes = MultinomialNB()\n",
    "bayes.fit(train_data,y_train)"
   ]
  },
  {
   "cell_type": "code",
   "execution_count": 63,
   "metadata": {
    "colab": {
     "base_uri": "https://localhost:8080/",
     "height": 208
    },
    "colab_type": "code",
    "executionInfo": {
     "elapsed": 1210,
     "status": "ok",
     "timestamp": 1595001136206,
     "user": {
      "displayName": "anusha v",
      "photoUrl": "https://lh3.googleusercontent.com/a-/AOh14GgZOHZnH7woOeTE5crsmBvCLeUnsZDsZVcN3kGuHw=s64",
      "userId": "13463040459709364978"
     },
     "user_tz": -330
    },
    "id": "eqykcVtqd7pN",
    "outputId": "74ee88b2-01ea-4d4a-99a0-8dec63c5e5f2"
   },
   "outputs": [
    {
     "name": "stdout",
     "output_type": "stream",
     "text": [
      "[2 3 1 1 5 1 1 3 3 3 4 5 4 2 5 4 5 2 5 4 4 4 2 3 3 2 3 1 5 3 1 2 5 2 2 4 1\n",
      " 4 4 4 3 5 3 5 5 1 4 2 1 1 3 2 5 3 2 1 3 5 1 2 2 4 5 4 1 1 2 4 4 3 3 3 1 2\n",
      " 2 3 4 1 5 5 4 4 3 3 2 3 4 2 5 2 4 1 2 5 4 4 3 4 1 1 1 4 3 2 1 5 4 4 5 2 2\n",
      " 2 5 4 3 2 2 2 3 5 4 5 4 2 2 5 3 2 1 4 4 5 2 5 3 4 2 5 3 3 1 5 1 3 5 1 1 1\n",
      " 3 5 5 1 3 4 1 3 2 4 4 4 2 1 5 4 1 2 5 5 2 3 4 1 3 2 5 4 4 4 4 4 5 1 1 4 3\n",
      " 3 5 4 3 1 4 5 2 4 2 4 3 4 1 2 5 3 5 4 1 3 3 2 5 2 3 4 3 1 3 3 2 4 1 4 1 1\n",
      " 4 1 4 2 1 2 1 1 5 4 2 1 2 1 5 2 1 5 3 3 4 1 4 2 4 2 1 3 2 1 5 4 5 5 1 5 1\n",
      " 5 5 4 1 1 5 2 3 4 2 4 2 1 5 1 3 1 5 4 1 1 1 1 3 2 1 3 2 2 2 2 2 2 4 3 4 1\n",
      " 1 4 2 3 3 3 4 4 3 4 2 5 1 3 4 2 3 1 1 1 2 1 1 2 5 1 3 5 5 1 3 2 2 1 3 4 5\n",
      " 5 2 2 3 1 4 2 3 5 1 4 2 1 3 3 4 4 1 3 4 2 5 4 3 2 3 5 3 2 5 4 3 5 2 5 3 1\n",
      " 3 3 2]\n"
     ]
    }
   ],
   "source": [
    "y_predict=bayes.predict(test_data)\n",
    "print(y_predict)"
   ]
  },
  {
   "cell_type": "code",
   "execution_count": 64,
   "metadata": {
    "colab": {
     "base_uri": "https://localhost:8080/",
     "height": 34
    },
    "colab_type": "code",
    "executionInfo": {
     "elapsed": 1489,
     "status": "ok",
     "timestamp": 1595001303893,
     "user": {
      "displayName": "anusha v",
      "photoUrl": "https://lh3.googleusercontent.com/a-/AOh14GgZOHZnH7woOeTE5crsmBvCLeUnsZDsZVcN3kGuHw=s64",
      "userId": "13463040459709364978"
     },
     "user_tz": -330
    },
    "id": "fZ-xSWh1elOd",
    "outputId": "766e091d-831f-4df5-bb1f-4f53c0399e1d"
   },
   "outputs": [
    {
     "name": "stdout",
     "output_type": "stream",
     "text": [
      "AccuracyScore:  0.9812332439678284\n"
     ]
    }
   ],
   "source": [
    "from sklearn.metrics import accuracy_score\n",
    "print(\"AccuracyScore: \",accuracy_score(y_test,y_predict))"
   ]
  },
  {
   "cell_type": "code",
   "execution_count": 65,
   "metadata": {
    "colab": {
     "base_uri": "https://localhost:8080/",
     "height": 206
    },
    "colab_type": "code",
    "executionInfo": {
     "elapsed": 1420,
     "status": "ok",
     "timestamp": 1595001393225,
     "user": {
      "displayName": "anusha v",
      "photoUrl": "https://lh3.googleusercontent.com/a-/AOh14GgZOHZnH7woOeTE5crsmBvCLeUnsZDsZVcN3kGuHw=s64",
      "userId": "13463040459709364978"
     },
     "user_tz": -330
    },
    "id": "aJyimHiqfLnA",
    "outputId": "1f1f8293-53df-4e42-f96f-1b8c2a0a7455"
   },
   "outputs": [
    {
     "data": {
      "text/html": [
       "<div>\n",
       "<style scoped>\n",
       "    .dataframe tbody tr th:only-of-type {\n",
       "        vertical-align: middle;\n",
       "    }\n",
       "\n",
       "    .dataframe tbody tr th {\n",
       "        vertical-align: top;\n",
       "    }\n",
       "\n",
       "    .dataframe thead th {\n",
       "        text-align: right;\n",
       "    }\n",
       "</style>\n",
       "<table border=\"1\" class=\"dataframe\">\n",
       "  <thead>\n",
       "    <tr style=\"text-align: right;\">\n",
       "      <th></th>\n",
       "      <th>ArticleId</th>\n",
       "      <th>Text</th>\n",
       "    </tr>\n",
       "  </thead>\n",
       "  <tbody>\n",
       "    <tr>\n",
       "      <th>0</th>\n",
       "      <td>1018</td>\n",
       "      <td>qpr keeper day heads for preston queens park r...</td>\n",
       "    </tr>\n",
       "    <tr>\n",
       "      <th>1</th>\n",
       "      <td>1319</td>\n",
       "      <td>software watching while you work software that...</td>\n",
       "    </tr>\n",
       "    <tr>\n",
       "      <th>2</th>\n",
       "      <td>1138</td>\n",
       "      <td>d arcy injury adds to ireland woe gordon d arc...</td>\n",
       "    </tr>\n",
       "    <tr>\n",
       "      <th>3</th>\n",
       "      <td>459</td>\n",
       "      <td>india s reliance family feud heats up the ongo...</td>\n",
       "    </tr>\n",
       "    <tr>\n",
       "      <th>4</th>\n",
       "      <td>1020</td>\n",
       "      <td>boro suffer morrison injury blow middlesbrough...</td>\n",
       "    </tr>\n",
       "  </tbody>\n",
       "</table>\n",
       "</div>"
      ],
      "text/plain": [
       "   ArticleId                                               Text\n",
       "0       1018  qpr keeper day heads for preston queens park r...\n",
       "1       1319  software watching while you work software that...\n",
       "2       1138  d arcy injury adds to ireland woe gordon d arc...\n",
       "3        459  india s reliance family feud heats up the ongo...\n",
       "4       1020  boro suffer morrison injury blow middlesbrough..."
      ]
     },
     "execution_count": 65,
     "metadata": {
      "tags": []
     },
     "output_type": "execute_result"
    }
   ],
   "source": [
    "df1=pd.read_csv('gdrive/My Drive/BBC News Test.csv')\n",
    "df1.head()"
   ]
  },
  {
   "cell_type": "code",
   "execution_count": 67,
   "metadata": {
    "colab": {
     "base_uri": "https://localhost:8080/",
     "height": 607
    },
    "colab_type": "code",
    "executionInfo": {
     "elapsed": 2179,
     "status": "ok",
     "timestamp": 1595001678829,
     "user": {
      "displayName": "anusha v",
      "photoUrl": "https://lh3.googleusercontent.com/a-/AOh14GgZOHZnH7woOeTE5crsmBvCLeUnsZDsZVcN3kGuHw=s64",
      "userId": "13463040459709364978"
     },
     "user_tz": -330
    },
    "id": "a5cvD4cngA7Y",
    "outputId": "fda56e78-c86a-4681-82ce-6348795dac2d"
   },
   "outputs": [
    {
     "data": {
      "text/plain": [
       "array([4, 2, 4, 1, 4, 4, 3, 3, 5, 1, 1, 2, 3, 2, 5, 4, 3, 2, 5, 5, 1, 3,\n",
       "       4, 1, 3, 4, 1, 4, 4, 1, 3, 2, 1, 1, 4, 4, 4, 1, 5, 5, 2, 3, 5, 2,\n",
       "       4, 2, 5, 1, 3, 1, 3, 1, 1, 1, 2, 3, 2, 5, 4, 2, 4, 5, 2, 3, 1, 5,\n",
       "       4, 2, 4, 4, 2, 4, 1, 3, 2, 4, 2, 2, 2, 5, 3, 4, 5, 5, 1, 5, 1, 5,\n",
       "       1, 2, 3, 3, 4, 2, 4, 4, 4, 4, 4, 4, 3, 4, 3, 5, 1, 4, 3, 4, 3, 5,\n",
       "       4, 1, 5, 4, 3, 4, 3, 4, 3, 1, 5, 1, 5, 5, 2, 4, 1, 5, 1, 5, 1, 3,\n",
       "       3, 2, 1, 1, 3, 2, 5, 4, 1, 2, 4, 5, 3, 4, 4, 5, 5, 2, 1, 2, 3, 5,\n",
       "       4, 4, 4, 4, 5, 2, 1, 2, 1, 2, 1, 2, 5, 2, 2, 3, 1, 3, 1, 1, 5, 3,\n",
       "       2, 1, 1, 2, 4, 3, 4, 3, 2, 2, 3, 1, 3, 2, 3, 1, 5, 4, 2, 2, 1, 2,\n",
       "       3, 1, 4, 3, 1, 5, 1, 1, 4, 2, 1, 4, 5, 5, 4, 5, 4, 2, 3, 5, 4, 5,\n",
       "       4, 5, 3, 1, 2, 5, 1, 3, 1, 2, 1, 4, 3, 3, 3, 3, 4, 1, 3, 3, 4, 3,\n",
       "       1, 4, 2, 1, 3, 1, 3, 1, 1, 4, 2, 3, 2, 2, 5, 2, 4, 4, 2, 4, 4, 4,\n",
       "       5, 4, 3, 2, 2, 4, 1, 4, 1, 4, 5, 1, 1, 5, 3, 1, 4, 4, 2, 4, 4, 5,\n",
       "       1, 4, 2, 3, 5, 1, 1, 3, 4, 5, 3, 1, 4, 4, 2, 5, 4, 1, 2, 1, 4, 3,\n",
       "       3, 5, 3, 5, 3, 1, 3, 2, 1, 4, 2, 5, 3, 4, 3, 3, 2, 3, 4, 2, 3, 2,\n",
       "       2, 5, 1, 2, 3, 1, 3, 4, 2, 5, 5, 1, 4, 2, 2, 5, 2, 1, 4, 5, 2, 1,\n",
       "       3, 2, 2, 3, 3, 4, 1, 2, 4, 3, 3, 1, 2, 4, 3, 1, 3, 3, 2, 5, 1, 1,\n",
       "       4, 4, 4, 2, 2, 3, 2, 2, 3, 1, 4, 4, 5, 5, 4, 2, 2, 4, 2, 5, 3, 2,\n",
       "       4, 1, 3, 5, 1, 2, 4, 3, 1, 1, 3, 2, 4, 5, 1, 2, 1, 2, 4, 4, 3, 1,\n",
       "       2, 4, 3, 1, 2, 2, 3, 2, 1, 3, 1, 5, 1, 5, 3, 5, 4, 1, 3, 1, 4, 5,\n",
       "       1, 5, 5, 4, 2, 5, 2, 1, 3, 5, 3, 3, 4, 1, 1, 3, 5, 5, 1, 1, 4, 3,\n",
       "       2, 2, 3, 1, 4, 4, 3, 4, 2, 1, 3, 4, 3, 2, 1, 3, 2, 3, 3, 5, 2, 4,\n",
       "       4, 3, 1, 2, 3, 4, 4, 5, 1, 5, 5, 1, 3, 4, 3, 2, 2, 1, 3, 4, 1, 4,\n",
       "       1, 3, 1, 4, 3, 2, 4, 3, 1, 2, 3, 4, 3, 5, 4, 3, 1, 1, 1, 2, 3, 3,\n",
       "       4, 1, 2, 2, 2, 4, 2, 3, 2, 1, 4, 2, 3, 1, 2, 2, 4, 2, 1, 4, 1, 1,\n",
       "       1, 3, 3, 5, 5, 5, 3, 2, 2, 3, 5, 1, 4, 4, 3, 5, 3, 4, 1, 1, 1, 5,\n",
       "       2, 4, 1, 3, 3, 2, 3, 4, 3, 1, 2, 1, 4, 4, 2, 4, 5, 2, 5, 2, 4, 3,\n",
       "       1, 2, 3, 3, 5, 3, 1, 1, 2, 1, 1, 1, 4, 5, 1, 4, 1, 4, 2, 1, 3, 4,\n",
       "       1, 4, 4, 5, 3, 2, 4, 1, 4, 1, 4, 4, 3, 2, 1, 2, 1, 4, 2, 1, 5, 1,\n",
       "       5, 4, 2, 1, 1, 1, 3, 4, 5, 2, 1, 4, 5, 1, 5, 1, 3, 4, 4, 1, 2, 4,\n",
       "       1, 1, 1, 2, 1, 5, 2, 4, 3, 2, 3, 2, 4, 2, 5, 1, 1, 3, 3, 4, 4, 4,\n",
       "       5, 2, 3, 5, 4, 4, 3, 2, 3, 5, 4, 5, 4, 2, 2, 4, 4, 1, 2, 5, 1, 2,\n",
       "       1, 1, 4, 5, 3, 5, 1, 3, 1, 3, 4, 2, 2, 3, 5, 1, 2, 5, 5, 3, 1, 1,\n",
       "       3, 3, 2, 4, 1, 5, 3, 1, 3])"
      ]
     },
     "execution_count": 67,
     "metadata": {
      "tags": []
     },
     "output_type": "execute_result"
    }
   ],
   "source": [
    "testing_data=count_vector.transform(df1['Text'])\n",
    "y1_predict=bayes.predict(testing_data)\n",
    "y1_predict"
   ]
  },
  {
   "cell_type": "code",
   "execution_count": 70,
   "metadata": {
    "colab": {
     "base_uri": "https://localhost:8080/",
     "height": 206
    },
    "colab_type": "code",
    "executionInfo": {
     "elapsed": 1271,
     "status": "ok",
     "timestamp": 1595002568020,
     "user": {
      "displayName": "anusha v",
      "photoUrl": "https://lh3.googleusercontent.com/a-/AOh14GgZOHZnH7woOeTE5crsmBvCLeUnsZDsZVcN3kGuHw=s64",
      "userId": "13463040459709364978"
     },
     "user_tz": -330
    },
    "id": "ytV10RZljMQq",
    "outputId": "d4219c9c-67b8-4b81-b91c-b51ea843955e"
   },
   "outputs": [
    {
     "data": {
      "text/html": [
       "<div>\n",
       "<style scoped>\n",
       "    .dataframe tbody tr th:only-of-type {\n",
       "        vertical-align: middle;\n",
       "    }\n",
       "\n",
       "    .dataframe tbody tr th {\n",
       "        vertical-align: top;\n",
       "    }\n",
       "\n",
       "    .dataframe thead th {\n",
       "        text-align: right;\n",
       "    }\n",
       "</style>\n",
       "<table border=\"1\" class=\"dataframe\">\n",
       "  <thead>\n",
       "    <tr style=\"text-align: right;\">\n",
       "      <th></th>\n",
       "      <th>ArticleId</th>\n",
       "      <th>Category</th>\n",
       "    </tr>\n",
       "  </thead>\n",
       "  <tbody>\n",
       "    <tr>\n",
       "      <th>0</th>\n",
       "      <td>1018</td>\n",
       "      <td>4</td>\n",
       "    </tr>\n",
       "    <tr>\n",
       "      <th>1</th>\n",
       "      <td>1319</td>\n",
       "      <td>2</td>\n",
       "    </tr>\n",
       "    <tr>\n",
       "      <th>2</th>\n",
       "      <td>1138</td>\n",
       "      <td>4</td>\n",
       "    </tr>\n",
       "    <tr>\n",
       "      <th>3</th>\n",
       "      <td>459</td>\n",
       "      <td>1</td>\n",
       "    </tr>\n",
       "    <tr>\n",
       "      <th>4</th>\n",
       "      <td>1020</td>\n",
       "      <td>4</td>\n",
       "    </tr>\n",
       "  </tbody>\n",
       "</table>\n",
       "</div>"
      ],
      "text/plain": [
       "   ArticleId  Category\n",
       "0       1018         4\n",
       "1       1319         2\n",
       "2       1138         4\n",
       "3        459         1\n",
       "4       1020         4"
      ]
     },
     "execution_count": 70,
     "metadata": {
      "tags": []
     },
     "output_type": "execute_result"
    }
   ],
   "source": [
    "final_df=pd.DataFrame({'ArticleId':df1['ArticleId'],\n",
    "                        'Category':y1_predict})\n",
    "final_df.head()"
   ]
  },
  {
   "cell_type": "code",
   "execution_count": 71,
   "metadata": {
    "colab": {
     "base_uri": "https://localhost:8080/",
     "height": 206
    },
    "colab_type": "code",
    "executionInfo": {
     "elapsed": 1405,
     "status": "ok",
     "timestamp": 1595002804059,
     "user": {
      "displayName": "anusha v",
      "photoUrl": "https://lh3.googleusercontent.com/a-/AOh14GgZOHZnH7woOeTE5crsmBvCLeUnsZDsZVcN3kGuHw=s64",
      "userId": "13463040459709364978"
     },
     "user_tz": -330
    },
    "id": "MORMiC9-kPsN",
    "outputId": "4f48c52c-7e14-414a-eceb-bd6bf122bde5"
   },
   "outputs": [
    {
     "data": {
      "text/html": [
       "<div>\n",
       "<style scoped>\n",
       "    .dataframe tbody tr th:only-of-type {\n",
       "        vertical-align: middle;\n",
       "    }\n",
       "\n",
       "    .dataframe tbody tr th {\n",
       "        vertical-align: top;\n",
       "    }\n",
       "\n",
       "    .dataframe thead th {\n",
       "        text-align: right;\n",
       "    }\n",
       "</style>\n",
       "<table border=\"1\" class=\"dataframe\">\n",
       "  <thead>\n",
       "    <tr style=\"text-align: right;\">\n",
       "      <th></th>\n",
       "      <th>ArticleId</th>\n",
       "      <th>Category</th>\n",
       "    </tr>\n",
       "  </thead>\n",
       "  <tbody>\n",
       "    <tr>\n",
       "      <th>0</th>\n",
       "      <td>1018</td>\n",
       "      <td>sport</td>\n",
       "    </tr>\n",
       "    <tr>\n",
       "      <th>1</th>\n",
       "      <td>1319</td>\n",
       "      <td>tech</td>\n",
       "    </tr>\n",
       "    <tr>\n",
       "      <th>2</th>\n",
       "      <td>1138</td>\n",
       "      <td>sport</td>\n",
       "    </tr>\n",
       "    <tr>\n",
       "      <th>3</th>\n",
       "      <td>459</td>\n",
       "      <td>business</td>\n",
       "    </tr>\n",
       "    <tr>\n",
       "      <th>4</th>\n",
       "      <td>1020</td>\n",
       "      <td>sport</td>\n",
       "    </tr>\n",
       "  </tbody>\n",
       "</table>\n",
       "</div>"
      ],
      "text/plain": [
       "   ArticleId  Category\n",
       "0       1018     sport\n",
       "1       1319      tech\n",
       "2       1138     sport\n",
       "3        459  business\n",
       "4       1020     sport"
      ]
     },
     "execution_count": 71,
     "metadata": {
      "tags": []
     },
     "output_type": "execute_result"
    }
   ],
   "source": [
    "final_df['Category']=final_df.Category.map({1:'business',2:'tech',3:'politics',4:'sport',5:'entertainment'} )\n",
    "final_df.head()"
   ]
  },
  {
   "cell_type": "code",
   "execution_count": 72,
   "metadata": {
    "colab": {
     "base_uri": "https://localhost:8080/",
     "height": 34
    },
    "colab_type": "code",
    "executionInfo": {
     "elapsed": 1421,
     "status": "ok",
     "timestamp": 1595002920896,
     "user": {
      "displayName": "anusha v",
      "photoUrl": "https://lh3.googleusercontent.com/a-/AOh14GgZOHZnH7woOeTE5crsmBvCLeUnsZDsZVcN3kGuHw=s64",
      "userId": "13463040459709364978"
     },
     "user_tz": -330
    },
    "id": "R4ADEXZ9lAPt",
    "outputId": "b3d7d337-fd86-4060-cdfa-cbad2d495178"
   },
   "outputs": [
    {
     "name": "stdout",
     "output_type": "stream",
     "text": [
      "Saved\n"
     ]
    }
   ],
   "source": [
    "final_df.to_csv('gdrive/My Drive/predictions.csv')\n",
    "print(\"Saved\")"
   ]
  }
 ],
 "metadata": {
  "colab": {
   "authorship_tag": "ABX9TyOYbPD9rbp7ewRMBhrql35x",
   "name": "Topic Classification On News Article.ipynb",
   "provenance": []
  },
  "kernelspec": {
   "display_name": "Python 3",
   "language": "python",
   "name": "python3"
  },
  "language_info": {
   "codemirror_mode": {
    "name": "ipython",
    "version": 3
   },
   "file_extension": ".py",
   "mimetype": "text/x-python",
   "name": "python",
   "nbconvert_exporter": "python",
   "pygments_lexer": "ipython3",
   "version": "3.7.3"
  }
 },
 "nbformat": 4,
 "nbformat_minor": 1
}
