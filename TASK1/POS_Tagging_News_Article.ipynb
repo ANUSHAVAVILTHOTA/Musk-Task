{
 "cells": [
  {
   "cell_type": "code",
   "execution_count": 4,
   "metadata": {
    "colab": {
     "base_uri": "https://localhost:8080/",
     "height": 124
    },
    "colab_type": "code",
    "id": "kqc-Mp_x-oOk",
    "outputId": "f1f7c0f0-f600-4c28-b4b6-3cb173ec7fdb"
   },
   "outputs": [
    {
     "name": "stdout",
     "output_type": "stream",
     "text": [
      "Go to this URL in a browser: https://accounts.google.com/o/oauth2/auth?client_id=947318989803-6bn6qk8qdgf4n4g3pfee6491hc0brc4i.apps.googleusercontent.com&redirect_uri=urn%3aietf%3awg%3aoauth%3a2.0%3aoob&response_type=code&scope=email%20https%3a%2f%2fwww.googleapis.com%2fauth%2fdocs.test%20https%3a%2f%2fwww.googleapis.com%2fauth%2fdrive%20https%3a%2f%2fwww.googleapis.com%2fauth%2fdrive.photos.readonly%20https%3a%2f%2fwww.googleapis.com%2fauth%2fpeopleapi.readonly\n",
      "\n",
      "Enter your authorization code:\n",
      "··········\n",
      "Mounted at /content/gdrive\n"
     ]
    }
   ],
   "source": [
    "from google.colab import drive\n",
    "drive.mount('/content/gdrive')"
   ]
  },
  {
   "cell_type": "code",
   "execution_count": 6,
   "metadata": {
    "colab": {
     "base_uri": "https://localhost:8080/",
     "height": 69
    },
    "colab_type": "code",
    "id": "HVYT6FsiKKKa",
    "outputId": "111704f0-c832-45bd-8aa8-acd9702919b1"
   },
   "outputs": [
    {
     "name": "stdout",
     "output_type": "stream",
     "text": [
      "[nltk_data] Downloading package punkt to /root/nltk_data...\n",
      "[nltk_data]   Unzipping tokenizers/punkt.zip.\n"
     ]
    },
    {
     "data": {
      "text/plain": [
       "True"
      ]
     },
     "execution_count": 6,
     "metadata": {
      "tags": []
     },
     "output_type": "execute_result"
    }
   ],
   "source": [
    "import nltk\n",
    "nltk.download('punkt')"
   ]
  },
  {
   "cell_type": "code",
   "execution_count": 8,
   "metadata": {
    "colab": {
     "base_uri": "https://localhost:8080/",
     "height": 888
    },
    "colab_type": "code",
    "id": "csWCrmtFpDDR",
    "outputId": "7a2a3faa-1931-44d2-b43f-dcd9baa514c3"
   },
   "outputs": [
    {
     "name": "stdout",
     "output_type": "stream",
     "text": [
      "Collecting newspaper3k\n",
      "\u001b[?25l  Downloading https://files.pythonhosted.org/packages/d7/b9/51afecb35bb61b188a4b44868001de348a0e8134b4dfa00ffc191567c4b9/newspaper3k-0.2.8-py3-none-any.whl (211kB)\n",
      "\r",
      "\u001b[K     |█▌                              | 10kB 18.8MB/s eta 0:00:01\r",
      "\u001b[K     |███                             | 20kB 2.2MB/s eta 0:00:01\r",
      "\u001b[K     |████▋                           | 30kB 2.8MB/s eta 0:00:01\r",
      "\u001b[K     |██████▏                         | 40kB 3.1MB/s eta 0:00:01\r",
      "\u001b[K     |███████▊                        | 51kB 2.5MB/s eta 0:00:01\r",
      "\u001b[K     |█████████▎                      | 61kB 2.8MB/s eta 0:00:01\r",
      "\u001b[K     |██████████▉                     | 71kB 3.0MB/s eta 0:00:01\r",
      "\u001b[K     |████████████▍                   | 81kB 3.3MB/s eta 0:00:01\r",
      "\u001b[K     |██████████████                  | 92kB 3.6MB/s eta 0:00:01\r",
      "\u001b[K     |███████████████▌                | 102kB 3.4MB/s eta 0:00:01\r",
      "\u001b[K     |█████████████████               | 112kB 3.4MB/s eta 0:00:01\r",
      "\u001b[K     |██████████████████▋             | 122kB 3.4MB/s eta 0:00:01\r",
      "\u001b[K     |████████████████████▏           | 133kB 3.4MB/s eta 0:00:01\r",
      "\u001b[K     |█████████████████████▊          | 143kB 3.4MB/s eta 0:00:01\r",
      "\u001b[K     |███████████████████████▎        | 153kB 3.4MB/s eta 0:00:01\r",
      "\u001b[K     |████████████████████████▉       | 163kB 3.4MB/s eta 0:00:01\r",
      "\u001b[K     |██████████████████████████▍     | 174kB 3.4MB/s eta 0:00:01\r",
      "\u001b[K     |████████████████████████████    | 184kB 3.4MB/s eta 0:00:01\r",
      "\u001b[K     |█████████████████████████████▌  | 194kB 3.4MB/s eta 0:00:01\r",
      "\u001b[K     |███████████████████████████████ | 204kB 3.4MB/s eta 0:00:01\r",
      "\u001b[K     |████████████████████████████████| 215kB 3.4MB/s \n",
      "\u001b[?25hRequirement already satisfied: nltk>=3.2.1 in /usr/local/lib/python3.6/dist-packages (from newspaper3k) (3.2.5)\n",
      "Collecting feedfinder2>=0.0.4\n",
      "  Downloading https://files.pythonhosted.org/packages/35/82/1251fefec3bb4b03fd966c7e7f7a41c9fc2bb00d823a34c13f847fd61406/feedfinder2-0.0.4.tar.gz\n",
      "Requirement already satisfied: requests>=2.10.0 in /usr/local/lib/python3.6/dist-packages (from newspaper3k) (2.23.0)\n",
      "Collecting tldextract>=2.0.1\n",
      "\u001b[?25l  Downloading https://files.pythonhosted.org/packages/fd/0e/9ab599d6e78f0340bb1d1e28ddeacb38c8bb7f91a1b0eae9a24e9603782f/tldextract-2.2.2-py2.py3-none-any.whl (48kB)\n",
      "\u001b[K     |████████████████████████████████| 51kB 5.6MB/s \n",
      "\u001b[?25hRequirement already satisfied: beautifulsoup4>=4.4.1 in /usr/local/lib/python3.6/dist-packages (from newspaper3k) (4.6.3)\n",
      "Requirement already satisfied: PyYAML>=3.11 in /usr/local/lib/python3.6/dist-packages (from newspaper3k) (3.13)\n",
      "Requirement already satisfied: lxml>=3.6.0 in /usr/local/lib/python3.6/dist-packages (from newspaper3k) (4.2.6)\n",
      "Collecting cssselect>=0.9.2\n",
      "  Downloading https://files.pythonhosted.org/packages/3b/d4/3b5c17f00cce85b9a1e6f91096e1cc8e8ede2e1be8e96b87ce1ed09e92c5/cssselect-1.1.0-py2.py3-none-any.whl\n",
      "Collecting jieba3k>=0.35.1\n",
      "\u001b[?25l  Downloading https://files.pythonhosted.org/packages/a9/cb/2c8332bcdc14d33b0bedd18ae0a4981a069c3513e445120da3c3f23a8aaa/jieba3k-0.35.1.zip (7.4MB)\n",
      "\u001b[K     |████████████████████████████████| 7.4MB 8.0MB/s \n",
      "\u001b[?25hRequirement already satisfied: Pillow>=3.3.0 in /usr/local/lib/python3.6/dist-packages (from newspaper3k) (7.0.0)\n",
      "Requirement already satisfied: python-dateutil>=2.5.3 in /usr/local/lib/python3.6/dist-packages (from newspaper3k) (2.8.1)\n",
      "Collecting tinysegmenter==0.3\n",
      "  Downloading https://files.pythonhosted.org/packages/17/82/86982e4b6d16e4febc79c2a1d68ee3b707e8a020c5d2bc4af8052d0f136a/tinysegmenter-0.3.tar.gz\n",
      "Collecting feedparser>=5.2.1\n",
      "\u001b[?25l  Downloading https://files.pythonhosted.org/packages/91/d8/7d37fec71ff7c9dbcdd80d2b48bcdd86d6af502156fc93846fb0102cb2c4/feedparser-5.2.1.tar.bz2 (192kB)\n",
      "\u001b[K     |████████████████████████████████| 194kB 44.1MB/s \n",
      "\u001b[?25hRequirement already satisfied: six in /usr/local/lib/python3.6/dist-packages (from nltk>=3.2.1->newspaper3k) (1.12.0)\n",
      "Requirement already satisfied: chardet<4,>=3.0.2 in /usr/local/lib/python3.6/dist-packages (from requests>=2.10.0->newspaper3k) (3.0.4)\n",
      "Requirement already satisfied: idna<3,>=2.5 in /usr/local/lib/python3.6/dist-packages (from requests>=2.10.0->newspaper3k) (2.10)\n",
      "Requirement already satisfied: urllib3!=1.25.0,!=1.25.1,<1.26,>=1.21.1 in /usr/local/lib/python3.6/dist-packages (from requests>=2.10.0->newspaper3k) (1.24.3)\n",
      "Requirement already satisfied: certifi>=2017.4.17 in /usr/local/lib/python3.6/dist-packages (from requests>=2.10.0->newspaper3k) (2020.6.20)\n",
      "Collecting requests-file>=1.4\n",
      "  Downloading https://files.pythonhosted.org/packages/77/86/cdb5e8eaed90796aa83a6d9f75cfbd37af553c47a291cd47bc410ef9bdb2/requests_file-1.5.1-py2.py3-none-any.whl\n",
      "Requirement already satisfied: setuptools in /usr/local/lib/python3.6/dist-packages (from tldextract>=2.0.1->newspaper3k) (49.1.0)\n",
      "Building wheels for collected packages: feedfinder2, jieba3k, tinysegmenter, feedparser\n",
      "  Building wheel for feedfinder2 (setup.py) ... \u001b[?25l\u001b[?25hdone\n",
      "  Created wheel for feedfinder2: filename=feedfinder2-0.0.4-cp36-none-any.whl size=3357 sha256=99d14db273cbe9c0cb4b044e0c1467c0da27435e5bc420a0df7da31a4b6075d5\n",
      "  Stored in directory: /root/.cache/pip/wheels/de/03/ca/778e3a7a627e3d98836cc890e7cb40c7575424cfd3340f40ed\n",
      "  Building wheel for jieba3k (setup.py) ... \u001b[?25l\u001b[?25hdone\n",
      "  Created wheel for jieba3k: filename=jieba3k-0.35.1-cp36-none-any.whl size=7398406 sha256=42c2f41d9c8229907f7e10c5e3c5a5676d47945f75c28757872aaa25be9947d0\n",
      "  Stored in directory: /root/.cache/pip/wheels/83/15/9c/a3f1f67e7f7181170ad37d32e503c35da20627c013f438ed34\n",
      "  Building wheel for tinysegmenter (setup.py) ... \u001b[?25l\u001b[?25hdone\n",
      "  Created wheel for tinysegmenter: filename=tinysegmenter-0.3-cp36-none-any.whl size=13539 sha256=9bf4c751a31ec19d533fa909bd5528d625724d20819b08497af2f722a8745348\n",
      "  Stored in directory: /root/.cache/pip/wheels/81/2b/43/a02ede72324dd40cdd7ca53aad718c7710628e91b8b0dc0f02\n",
      "  Building wheel for feedparser (setup.py) ... \u001b[?25l\u001b[?25hdone\n",
      "  Created wheel for feedparser: filename=feedparser-5.2.1-cp36-none-any.whl size=44940 sha256=ca6874cebf6305437c062e9c70ee1ce0f60d94b782c39036be1292585ce324ad\n",
      "  Stored in directory: /root/.cache/pip/wheels/8c/69/b7/f52763c41c5471df57703a0ef718a32a5e81ee35dcf6d4f97f\n",
      "Successfully built feedfinder2 jieba3k tinysegmenter feedparser\n",
      "Installing collected packages: feedfinder2, requests-file, tldextract, cssselect, jieba3k, tinysegmenter, feedparser, newspaper3k\n",
      "Successfully installed cssselect-1.1.0 feedfinder2-0.0.4 feedparser-5.2.1 jieba3k-0.35.1 newspaper3k-0.2.8 requests-file-1.5.1 tinysegmenter-0.3 tldextract-2.2.2\n"
     ]
    }
   ],
   "source": [
    "pip install newspaper3k"
   ]
  },
  {
   "cell_type": "code",
   "execution_count": 9,
   "metadata": {
    "colab": {},
    "colab_type": "code",
    "id": "wP9sxJRCJFjG"
   },
   "outputs": [],
   "source": [
    "from newspaper import Article\n",
    "import nltk\n",
    "url=str(\"https://ispe.org/membership/join?utm_source=google&utm_medium=retargeting-member-benefits&utm_campaign=2020membership&utm_term=&utm_source=adwords&utm_medium=ppc&utm_campaign=2020+Membership+-+Remarketing+Ads&hsa_net=adwords&hsa_grp=97292076637&hsa_mt=&hsa_tgt=aud-486324709415&hsa_kw=&hsa_src=d&hsa_acc=8917024134&hsa_cam=9524032280&hsa_ver=3&hsa_ad=422056083513&gclid=CjwKCAjwmMX4BRAAEiwA-zM4JvD6A_6QgqgAb1VETb3A0kViSfOdLqVJiyJ5xcKGHh3zEE7lPF8SZxoCba0QAvD_BwE\")\n",
    "article=Article(url,language='en')\n",
    "article.download()"
   ]
  },
  {
   "cell_type": "code",
   "execution_count": 10,
   "metadata": {
    "colab": {
     "base_uri": "https://localhost:8080/",
     "height": 784
    },
    "colab_type": "code",
    "id": "LIql1atvJzlP",
    "outputId": "56540c7e-59e9-42ae-b1a4-777432558daf"
   },
   "outputs": [
    {
     "name": "stdout",
     "output_type": "stream",
     "text": [
      "We invite you to join the largest not-for-profit pharma organization today! Pharmaceutical science and manufacturing professionals worldwide know that the best way to advance their professional and technical proficiency is through ISPE Membership.\n",
      "\n",
      "Select the appropriate Membership Type below and submit a Membership Application. By joining or renewing, Members agree to uphold and abide by the ISPE Code of Conduct.\n",
      "\n",
      "Prices valid through 31 December 2020. ISPE Membership is individual and non-transferable.\n",
      "\n",
      "Time to Renew? Check your renewal status.\n",
      "\n",
      "New Members Get Started by Choosing Your Member Type Below\n",
      "\n",
      "All Members may vote on matters pending before the Society, hold office, and serve on committees. All memberships are individual and not transferable for professionals working or studying in the pharmaceutical and biopharmaceutical manufacturing industry. By virtue of joining ISPE as a member, members agree to receive communications from ISPE.\n",
      "\n",
      "About ISPE Membership Auto-Renew\n",
      "\n",
      "As a convenience to our members, ISPE offers an auto-renewal option for managing your membership. With Auto-Renew your ISPE membership and associated benefits will not lapse. The payment process automatically renews each year, freeing you from having to resubmit your renewal and payment information. You will also avoid multiple renewal notices and marketing communications. Auto-Renew allows members to pay directly from their credit/debit card account.\n",
      "\n",
      "By signing up for Auto-Renew, you authorize ISPE to charge your credit/debit card on file within 30 days of your membership expiration date. You may choose to turn Auto-Renew off at any time by visiting My Account at ISPE. You can see your renewal date in My Account, and you can always change your payment method, address information, or cancel your membership before you're automatically billed for your next term.\n",
      "\n",
      "Please note that unless you notify us up until 5 days before your membership expiration date that you want to cancel or do not want to auto-renew, you understand your membership will automatically renew for that year and you authorize us (without notice to you, unless required by applicable law) to collect the then-applicable membership price, using the payment method we have on record for you. Thereafter, your membership will not Auto-Renew.\n",
      "\n",
      "Acknowledgment\n",
      "\n",
      "Instead of receiving an annual renewal notice, you will receive an upcoming charge notice at least 30 days before your credit/debit card will be charged for your annual membership. This notice will provide the amount that will be charged for your annual membership, how to cancel Auto-Renew, including online by visiting My Account at ISPE, and will advise that you have up until 5 days before your membership expiration date to cancel Auto-Renew. After you are charged, will receive an acknowledgement of the charge.\n",
      "\n",
      "Contact Information\n",
      "\n",
      "You must notify ISPE of any changes to your email, address, or payment information (credit card, account number, expiration date, etc.). Charge notices will be sent to the last street or email address that you provided. You can update your contact information by going to My Account at ISPE. To update your payment preferences, contact Member Services at ask@ispe.org or +1-813-960-2105.\n",
      "\n",
      "Payment Method\n",
      "\n",
      "If the payment method we have on file for you is declined for payment of your membership fee, ISPE will contact you to update your information promptly to avoid membership cancellation. If you provide us with a new eligible payment method and are successfully charged, your new membership period will be based on the original renewal date and not the date of the successful charge.\n",
      "\n",
      "Membership Cancellation/Refund Policy\n",
      "\n",
      "ISPE membership is individual and not transferable. You may terminate your membership with a full refund within 30 days of purchase via written notice to ask@ispe.org. Please note we do not accept terminations via phone. Membership purchased in conjunction with a conference or training event is only refundable upon approved cancellation of an event.\n",
      "\n",
      "Changes to member type must be requested in writing to ask@ispe.org.\n",
      "\n",
      "ISPE follows the World Bank’s guide for determining Emerging Economy Country status. Our list is updated annually in January. ISPE monitors classification changes but will not move a country until it has stayed in the new level for three consecutive years.\n",
      "\n",
      "Additional information may need to be provided in writing to ISPE at ask@ispe.org.\n",
      "\n",
      "Prefer to complete your membership forms by mail or fax. Download the membership form to get started.\n"
     ]
    }
   ],
   "source": [
    "article.parse()\n",
    "article.nlp()\n",
    "print(article.text)"
   ]
  },
  {
   "cell_type": "code",
   "execution_count": 11,
   "metadata": {
    "colab": {
     "base_uri": "https://localhost:8080/",
     "height": 34
    },
    "colab_type": "code",
    "id": "mKeHY3djKGiD",
    "outputId": "4eaab079-956e-47b6-a6ad-2cd9b95572f3"
   },
   "outputs": [
    {
     "data": {
      "text/plain": [
       "4567"
      ]
     },
     "execution_count": 11,
     "metadata": {
      "tags": []
     },
     "output_type": "execute_result"
    }
   ],
   "source": [
    "file=open(\"gdrive/My Drive/scrapetext.txt\",\"w\")\n",
    "file.write(article.text)"
   ]
  },
  {
   "cell_type": "code",
   "execution_count": 12,
   "metadata": {
    "colab": {
     "base_uri": "https://localhost:8080/",
     "height": 784
    },
    "colab_type": "code",
    "id": "ZNpkEXrUQAio",
    "outputId": "ce1f848b-d4ab-4d49-c98c-8c95291bd565"
   },
   "outputs": [
    {
     "name": "stdout",
     "output_type": "stream",
     "text": [
      "we invite you to join the largest not-for-profit pharma organization today! pharmaceutical science and manufacturing professionals worldwide know that the best way to advance their professional and technical proficiency is through ispe membership.\n",
      "\n",
      "select the appropriate membership type below and submit a membership application. by joining or renewing, members agree to uphold and abide by the ispe code of conduct.\n",
      "\n",
      "prices valid through 31 december 2020. ispe membership is individual and non-transferable.\n",
      "\n",
      "time to renew? check your renewal status.\n",
      "\n",
      "new members get started by choosing your member type below\n",
      "\n",
      "all members may vote on matters pending before the society, hold office, and serve on committees. all memberships are individual and not transferable for professionals working or studying in the pharmaceutical and biopharmaceutical manufacturing industry. by virtue of joining ispe as a member, members agree to receive communications from ispe.\n",
      "\n",
      "about ispe membership auto-renew\n",
      "\n",
      "as a convenience to our members, ispe offers an auto-renewal option for managing your membership. with auto-renew your ispe membership and associated benefits will not lapse. the payment process automatically renews each year, freeing you from having to resubmit your renewal and payment information. you will also avoid multiple renewal notices and marketing communications. auto-renew allows members to pay directly from their credit/debit card account.\n",
      "\n",
      "by signing up for auto-renew, you authorize ispe to charge your credit/debit card on file within 30 days of your membership expiration date. you may choose to turn auto-renew off at any time by visiting my account at ispe. you can see your renewal date in my account, and you can always change your payment method, address information, or cancel your membership before you're automatically billed for your next term.\n",
      "\n",
      "please note that unless you notify us up until 5 days before your membership expiration date that you want to cancel or do not want to auto-renew, you understand your membership will automatically renew for that year and you authorize us (without notice to you, unless required by applicable law) to collect the then-applicable membership price, using the payment method we have on record for you. thereafter, your membership will not auto-renew.\n",
      "\n",
      "acknowledgment\n",
      "\n",
      "instead of receiving an annual renewal notice, you will receive an upcoming charge notice at least 30 days before your credit/debit card will be charged for your annual membership. this notice will provide the amount that will be charged for your annual membership, how to cancel auto-renew, including online by visiting my account at ispe, and will advise that you have up until 5 days before your membership expiration date to cancel auto-renew. after you are charged, will receive an acknowledgement of the charge.\n",
      "\n",
      "contact information\n",
      "\n",
      "you must notify ispe of any changes to your email, address, or payment information (credit card, account number, expiration date, etc.). charge notices will be sent to the last street or email address that you provided. you can update your contact information by going to my account at ispe. to update your payment preferences, contact member services at ask@ispe.org or +1-813-960-2105.\n",
      "\n",
      "payment method\n",
      "\n",
      "if the payment method we have on file for you is declined for payment of your membership fee, ispe will contact you to update your information promptly to avoid membership cancellation. if you provide us with a new eligible payment method and are successfully charged, your new membership period will be based on the original renewal date and not the date of the successful charge.\n",
      "\n",
      "membership cancellation/refund policy\n",
      "\n",
      "ispe membership is individual and not transferable. you may terminate your membership with a full refund within 30 days of purchase via written notice to ask@ispe.org. please note we do not accept terminations via phone. membership purchased in conjunction with a conference or training event is only refundable upon approved cancellation of an event.\n",
      "\n",
      "changes to member type must be requested in writing to ask@ispe.org.\n",
      "\n",
      "ispe follows the world bank’s guide for determining emerging economy country status. our list is updated annually in january. ispe monitors classification changes but will not move a country until it has stayed in the new level for three consecutive years.\n",
      "\n",
      "additional information may need to be provided in writing to ispe at ask@ispe.org.\n",
      "\n",
      "prefer to complete your membership forms by mail or fax. download the membership form to get started.\n"
     ]
    }
   ],
   "source": [
    "# Preprocessing the text\n",
    "# Converting to  lower\n",
    "text_lower=article.text.lower()\n",
    "print(text_lower)"
   ]
  },
  {
   "cell_type": "code",
   "execution_count": 13,
   "metadata": {
    "colab": {
     "base_uri": "https://localhost:8080/",
     "height": 784
    },
    "colab_type": "code",
    "id": "Y74UFEFGTcJg",
    "outputId": "b4753b40-9bb2-4fd4-87c2-f24d10d3637a"
   },
   "outputs": [
    {
     "name": "stdout",
     "output_type": "stream",
     "text": [
      "we invite you to join the largest not-for-profit pharma organization today! pharmaceutical science and manufacturing professionals worldwide know that the best way to advance their professional and technical proficiency is through ispe membership.\n",
      "\n",
      "select the appropriate membership type below and submit a membership application. by joining or renewing, members agree to uphold and abide by the ispe code of conduct.\n",
      "\n",
      "prices valid through  december . ispe membership is individual and non-transferable.\n",
      "\n",
      "time to renew? check your renewal status.\n",
      "\n",
      "new members get started by choosing your member type below\n",
      "\n",
      "all members may vote on matters pending before the society, hold office, and serve on committees. all memberships are individual and not transferable for professionals working or studying in the pharmaceutical and biopharmaceutical manufacturing industry. by virtue of joining ispe as a member, members agree to receive communications from ispe.\n",
      "\n",
      "about ispe membership auto-renew\n",
      "\n",
      "as a convenience to our members, ispe offers an auto-renewal option for managing your membership. with auto-renew your ispe membership and associated benefits will not lapse. the payment process automatically renews each year, freeing you from having to resubmit your renewal and payment information. you will also avoid multiple renewal notices and marketing communications. auto-renew allows members to pay directly from their credit/debit card account.\n",
      "\n",
      "by signing up for auto-renew, you authorize ispe to charge your credit/debit card on file within  days of your membership expiration date. you may choose to turn auto-renew off at any time by visiting my account at ispe. you can see your renewal date in my account, and you can always change your payment method, address information, or cancel your membership before you're automatically billed for your next term.\n",
      "\n",
      "please note that unless you notify us up until  days before your membership expiration date that you want to cancel or do not want to auto-renew, you understand your membership will automatically renew for that year and you authorize us (without notice to you, unless required by applicable law) to collect the then-applicable membership price, using the payment method we have on record for you. thereafter, your membership will not auto-renew.\n",
      "\n",
      "acknowledgment\n",
      "\n",
      "instead of receiving an annual renewal notice, you will receive an upcoming charge notice at least  days before your credit/debit card will be charged for your annual membership. this notice will provide the amount that will be charged for your annual membership, how to cancel auto-renew, including online by visiting my account at ispe, and will advise that you have up until  days before your membership expiration date to cancel auto-renew. after you are charged, will receive an acknowledgement of the charge.\n",
      "\n",
      "contact information\n",
      "\n",
      "you must notify ispe of any changes to your email, address, or payment information (credit card, account number, expiration date, etc.). charge notices will be sent to the last street or email address that you provided. you can update your contact information by going to my account at ispe. to update your payment preferences, contact member services at ask@ispe.org or +---.\n",
      "\n",
      "payment method\n",
      "\n",
      "if the payment method we have on file for you is declined for payment of your membership fee, ispe will contact you to update your information promptly to avoid membership cancellation. if you provide us with a new eligible payment method and are successfully charged, your new membership period will be based on the original renewal date and not the date of the successful charge.\n",
      "\n",
      "membership cancellation/refund policy\n",
      "\n",
      "ispe membership is individual and not transferable. you may terminate your membership with a full refund within  days of purchase via written notice to ask@ispe.org. please note we do not accept terminations via phone. membership purchased in conjunction with a conference or training event is only refundable upon approved cancellation of an event.\n",
      "\n",
      "changes to member type must be requested in writing to ask@ispe.org.\n",
      "\n",
      "ispe follows the world bank’s guide for determining emerging economy country status. our list is updated annually in january. ispe monitors classification changes but will not move a country until it has stayed in the new level for three consecutive years.\n",
      "\n",
      "additional information may need to be provided in writing to ispe at ask@ispe.org.\n",
      "\n",
      "prefer to complete your membership forms by mail or fax. download the membership form to get started.\n"
     ]
    }
   ],
   "source": [
    "# Removing the numbers\n",
    "import re\n",
    "new_text=re.sub(r'\\d+','',text_lower)\n",
    "print(new_text)"
   ]
  },
  {
   "cell_type": "code",
   "execution_count": 14,
   "metadata": {
    "colab": {
     "base_uri": "https://localhost:8080/",
     "height": 784
    },
    "colab_type": "code",
    "id": "0FzuShqOT8ru",
    "outputId": "c8038b52-7d97-40f2-f9d5-ff91e12f6c1f"
   },
   "outputs": [
    {
     "name": "stdout",
     "output_type": "stream",
     "text": [
      "we invite you to join the largest notforprofit pharma organization today pharmaceutical science and manufacturing professionals worldwide know that the best way to advance their professional and technical proficiency is through ispe membership\n",
      "\n",
      "select the appropriate membership type below and submit a membership application by joining or renewing members agree to uphold and abide by the ispe code of conduct\n",
      "\n",
      "prices valid through  december  ispe membership is individual and nontransferable\n",
      "\n",
      "time to renew check your renewal status\n",
      "\n",
      "new members get started by choosing your member type below\n",
      "\n",
      "all members may vote on matters pending before the society hold office and serve on committees all memberships are individual and not transferable for professionals working or studying in the pharmaceutical and biopharmaceutical manufacturing industry by virtue of joining ispe as a member members agree to receive communications from ispe\n",
      "\n",
      "about ispe membership autorenew\n",
      "\n",
      "as a convenience to our members ispe offers an autorenewal option for managing your membership with autorenew your ispe membership and associated benefits will not lapse the payment process automatically renews each year freeing you from having to resubmit your renewal and payment information you will also avoid multiple renewal notices and marketing communications autorenew allows members to pay directly from their creditdebit card account\n",
      "\n",
      "by signing up for autorenew you authorize ispe to charge your creditdebit card on file within  days of your membership expiration date you may choose to turn autorenew off at any time by visiting my account at ispe you can see your renewal date in my account and you can always change your payment method address information or cancel your membership before youre automatically billed for your next term\n",
      "\n",
      "please note that unless you notify us up until  days before your membership expiration date that you want to cancel or do not want to autorenew you understand your membership will automatically renew for that year and you authorize us without notice to you unless required by applicable law to collect the thenapplicable membership price using the payment method we have on record for you thereafter your membership will not autorenew\n",
      "\n",
      "acknowledgment\n",
      "\n",
      "instead of receiving an annual renewal notice you will receive an upcoming charge notice at least  days before your creditdebit card will be charged for your annual membership this notice will provide the amount that will be charged for your annual membership how to cancel autorenew including online by visiting my account at ispe and will advise that you have up until  days before your membership expiration date to cancel autorenew after you are charged will receive an acknowledgement of the charge\n",
      "\n",
      "contact information\n",
      "\n",
      "you must notify ispe of any changes to your email address or payment information credit card account number expiration date etc charge notices will be sent to the last street or email address that you provided you can update your contact information by going to my account at ispe to update your payment preferences contact member services at askispeorg or \n",
      "\n",
      "payment method\n",
      "\n",
      "if the payment method we have on file for you is declined for payment of your membership fee ispe will contact you to update your information promptly to avoid membership cancellation if you provide us with a new eligible payment method and are successfully charged your new membership period will be based on the original renewal date and not the date of the successful charge\n",
      "\n",
      "membership cancellationrefund policy\n",
      "\n",
      "ispe membership is individual and not transferable you may terminate your membership with a full refund within  days of purchase via written notice to askispeorg please note we do not accept terminations via phone membership purchased in conjunction with a conference or training event is only refundable upon approved cancellation of an event\n",
      "\n",
      "changes to member type must be requested in writing to askispeorg\n",
      "\n",
      "ispe follows the world bank’s guide for determining emerging economy country status our list is updated annually in january ispe monitors classification changes but will not move a country until it has stayed in the new level for three consecutive years\n",
      "\n",
      "additional information may need to be provided in writing to ispe at askispeorg\n",
      "\n",
      "prefer to complete your membership forms by mail or fax download the membership form to get started\n"
     ]
    }
   ],
   "source": [
    "# removing punctuations and strip\n",
    "import string\n",
    "translator=str.maketrans('','',string.punctuation)\n",
    "text=(new_text.translate(translator)).strip()\n",
    "print(text)"
   ]
  },
  {
   "cell_type": "code",
   "execution_count": 15,
   "metadata": {
    "colab": {
     "base_uri": "https://localhost:8080/",
     "height": 54
    },
    "colab_type": "code",
    "id": "SX4wu_isWcGN",
    "outputId": "c5b2836b-606d-4df9-d74b-d68298442966"
   },
   "outputs": [
    {
     "name": "stdout",
     "output_type": "stream",
     "text": [
      "['we', 'invite', 'you', 'to', 'join', 'the', 'largest', 'notforprofit', 'pharma', 'organization', 'today', 'pharmaceutical', 'science', 'and', 'manufacturing', 'professionals', 'worldwide', 'know', 'that', 'the', 'best', 'way', 'to', 'advance', 'their', 'professional', 'and', 'technical', 'proficiency', 'is', 'through', 'ispe', 'membership', 'select', 'the', 'appropriate', 'membership', 'type', 'below', 'and', 'submit', 'a', 'membership', 'application', 'by', 'joining', 'or', 'renewing', 'members', 'agree', 'to', 'uphold', 'and', 'abide', 'by', 'the', 'ispe', 'code', 'of', 'conduct', 'prices', 'valid', 'through', 'december', 'ispe', 'membership', 'is', 'individual', 'and', 'nontransferable', 'time', 'to', 'renew', 'check', 'your', 'renewal', 'status', 'new', 'members', 'get', 'started', 'by', 'choosing', 'your', 'member', 'type', 'below', 'all', 'members', 'may', 'vote', 'on', 'matters', 'pending', 'before', 'the', 'society', 'hold', 'office', 'and', 'serve', 'on', 'committees', 'all', 'memberships', 'are', 'individual', 'and', 'not', 'transferable', 'for', 'professionals', 'working', 'or', 'studying', 'in', 'the', 'pharmaceutical', 'and', 'biopharmaceutical', 'manufacturing', 'industry', 'by', 'virtue', 'of', 'joining', 'ispe', 'as', 'a', 'member', 'members', 'agree', 'to', 'receive', 'communications', 'from', 'ispe', 'about', 'ispe', 'membership', 'autorenew', 'as', 'a', 'convenience', 'to', 'our', 'members', 'ispe', 'offers', 'an', 'autorenewal', 'option', 'for', 'managing', 'your', 'membership', 'with', 'autorenew', 'your', 'ispe', 'membership', 'and', 'associated', 'benefits', 'will', 'not', 'lapse', 'the', 'payment', 'process', 'automatically', 'renews', 'each', 'year', 'freeing', 'you', 'from', 'having', 'to', 'resubmit', 'your', 'renewal', 'and', 'payment', 'information', 'you', 'will', 'also', 'avoid', 'multiple', 'renewal', 'notices', 'and', 'marketing', 'communications', 'autorenew', 'allows', 'members', 'to', 'pay', 'directly', 'from', 'their', 'creditdebit', 'card', 'account', 'by', 'signing', 'up', 'for', 'autorenew', 'you', 'authorize', 'ispe', 'to', 'charge', 'your', 'creditdebit', 'card', 'on', 'file', 'within', 'days', 'of', 'your', 'membership', 'expiration', 'date', 'you', 'may', 'choose', 'to', 'turn', 'autorenew', 'off', 'at', 'any', 'time', 'by', 'visiting', 'my', 'account', 'at', 'ispe', 'you', 'can', 'see', 'your', 'renewal', 'date', 'in', 'my', 'account', 'and', 'you', 'can', 'always', 'change', 'your', 'payment', 'method', 'address', 'information', 'or', 'cancel', 'your', 'membership', 'before', 'youre', 'automatically', 'billed', 'for', 'your', 'next', 'term', 'please', 'note', 'that', 'unless', 'you', 'notify', 'us', 'up', 'until', 'days', 'before', 'your', 'membership', 'expiration', 'date', 'that', 'you', 'want', 'to', 'cancel', 'or', 'do', 'not', 'want', 'to', 'autorenew', 'you', 'understand', 'your', 'membership', 'will', 'automatically', 'renew', 'for', 'that', 'year', 'and', 'you', 'authorize', 'us', 'without', 'notice', 'to', 'you', 'unless', 'required', 'by', 'applicable', 'law', 'to', 'collect', 'the', 'thenapplicable', 'membership', 'price', 'using', 'the', 'payment', 'method', 'we', 'have', 'on', 'record', 'for', 'you', 'thereafter', 'your', 'membership', 'will', 'not', 'autorenew', 'acknowledgment', 'instead', 'of', 'receiving', 'an', 'annual', 'renewal', 'notice', 'you', 'will', 'receive', 'an', 'upcoming', 'charge', 'notice', 'at', 'least', 'days', 'before', 'your', 'creditdebit', 'card', 'will', 'be', 'charged', 'for', 'your', 'annual', 'membership', 'this', 'notice', 'will', 'provide', 'the', 'amount', 'that', 'will', 'be', 'charged', 'for', 'your', 'annual', 'membership', 'how', 'to', 'cancel', 'autorenew', 'including', 'online', 'by', 'visiting', 'my', 'account', 'at', 'ispe', 'and', 'will', 'advise', 'that', 'you', 'have', 'up', 'until', 'days', 'before', 'your', 'membership', 'expiration', 'date', 'to', 'cancel', 'autorenew', 'after', 'you', 'are', 'charged', 'will', 'receive', 'an', 'acknowledgement', 'of', 'the', 'charge', 'contact', 'information', 'you', 'must', 'notify', 'ispe', 'of', 'any', 'changes', 'to', 'your', 'email', 'address', 'or', 'payment', 'information', 'credit', 'card', 'account', 'number', 'expiration', 'date', 'etc', 'charge', 'notices', 'will', 'be', 'sent', 'to', 'the', 'last', 'street', 'or', 'email', 'address', 'that', 'you', 'provided', 'you', 'can', 'update', 'your', 'contact', 'information', 'by', 'going', 'to', 'my', 'account', 'at', 'ispe', 'to', 'update', 'your', 'payment', 'preferences', 'contact', 'member', 'services', 'at', 'askispeorg', 'or', 'payment', 'method', 'if', 'the', 'payment', 'method', 'we', 'have', 'on', 'file', 'for', 'you', 'is', 'declined', 'for', 'payment', 'of', 'your', 'membership', 'fee', 'ispe', 'will', 'contact', 'you', 'to', 'update', 'your', 'information', 'promptly', 'to', 'avoid', 'membership', 'cancellation', 'if', 'you', 'provide', 'us', 'with', 'a', 'new', 'eligible', 'payment', 'method', 'and', 'are', 'successfully', 'charged', 'your', 'new', 'membership', 'period', 'will', 'be', 'based', 'on', 'the', 'original', 'renewal', 'date', 'and', 'not', 'the', 'date', 'of', 'the', 'successful', 'charge', 'membership', 'cancellationrefund', 'policy', 'ispe', 'membership', 'is', 'individual', 'and', 'not', 'transferable', 'you', 'may', 'terminate', 'your', 'membership', 'with', 'a', 'full', 'refund', 'within', 'days', 'of', 'purchase', 'via', 'written', 'notice', 'to', 'askispeorg', 'please', 'note', 'we', 'do', 'not', 'accept', 'terminations', 'via', 'phone', 'membership', 'purchased', 'in', 'conjunction', 'with', 'a', 'conference', 'or', 'training', 'event', 'is', 'only', 'refundable', 'upon', 'approved', 'cancellation', 'of', 'an', 'event', 'changes', 'to', 'member', 'type', 'must', 'be', 'requested', 'in', 'writing', 'to', 'askispeorg', 'ispe', 'follows', 'the', 'world', 'bank', '’', 's', 'guide', 'for', 'determining', 'emerging', 'economy', 'country', 'status', 'our', 'list', 'is', 'updated', 'annually', 'in', 'january', 'ispe', 'monitors', 'classification', 'changes', 'but', 'will', 'not', 'move', 'a', 'country', 'until', 'it', 'has', 'stayed', 'in', 'the', 'new', 'level', 'for', 'three', 'consecutive', 'years', 'additional', 'information', 'may', 'need', 'to', 'be', 'provided', 'in', 'writing', 'to', 'ispe', 'at', 'askispeorg', 'prefer', 'to', 'complete', 'your', 'membership', 'forms', 'by', 'mail', 'or', 'fax', 'download', 'the', 'membership', 'form', 'to', 'get', 'started']\n"
     ]
    }
   ],
   "source": [
    "words=[word for sent in nltk.sent_tokenize(text)\n",
    "            for word in nltk.word_tokenize(sent)]\n",
    "print(words)"
   ]
  },
  {
   "cell_type": "code",
   "execution_count": 16,
   "metadata": {
    "colab": {
     "base_uri": "https://localhost:8080/",
     "height": 54
    },
    "colab_type": "code",
    "id": "Z_cTLWdeWP6X",
    "outputId": "30a81b25-bb7e-4572-805c-aa33a1b34842"
   },
   "outputs": [
    {
     "name": "stdout",
     "output_type": "stream",
     "text": [
      "['invite', 'join', 'largest', 'notforprofit', 'pharma', 'organization', 'today', 'pharmaceutical', 'science', 'manufacturing', 'professionals', 'worldwide', 'know', 'best', 'way', 'advance', 'professional', 'technical', 'proficiency', 'ispe', 'membership', 'select', 'appropriate', 'membership', 'type', 'submit', 'membership', 'application', 'joining', 'renewing', 'members', 'agree', 'uphold', 'abide', 'ispe', 'code', 'conduct', 'prices', 'valid', 'december', 'ispe', 'membership', 'individual', 'nontransferable', 'time', 'renew', 'check', 'renewal', 'status', 'new', 'members', 'started', 'choosing', 'member', 'type', 'members', 'vote', 'matters', 'pending', 'society', 'hold', 'office', 'serve', 'committees', 'memberships', 'individual', 'transferable', 'professionals', 'working', 'studying', 'pharmaceutical', 'biopharmaceutical', 'manufacturing', 'industry', 'virtue', 'joining', 'ispe', 'member', 'members', 'agree', 'receive', 'communications', 'ispe', 'ispe', 'membership', 'autorenew', 'convenience', 'members', 'ispe', 'offers', 'autorenewal', 'option', 'managing', 'membership', 'autorenew', 'ispe', 'membership', 'associated', 'benefits', 'lapse', 'payment', 'process', 'automatically', 'renews', 'year', 'freeing', 'having', 'resubmit', 'renewal', 'payment', 'information', 'avoid', 'multiple', 'renewal', 'notices', 'marketing', 'communications', 'autorenew', 'allows', 'members', 'pay', 'directly', 'creditdebit', 'card', 'account', 'signing', 'autorenew', 'authorize', 'ispe', 'charge', 'creditdebit', 'card', 'file', 'days', 'membership', 'expiration', 'date', 'choose', 'turn', 'autorenew', 'time', 'visiting', 'account', 'ispe', 'renewal', 'date', 'account', 'change', 'payment', 'method', 'address', 'information', 'cancel', 'membership', 'youre', 'automatically', 'billed', 'term', 'note', 'notify', 'days', 'membership', 'expiration', 'date', 'want', 'cancel', 'want', 'autorenew', 'understand', 'membership', 'automatically', 'renew', 'year', 'authorize', 'notice', 'required', 'applicable', 'law', 'collect', 'thenapplicable', 'membership', 'price', 'payment', 'method', 'record', 'membership', 'autorenew', 'acknowledgment', 'instead', 'receiving', 'annual', 'renewal', 'notice', 'receive', 'upcoming', 'charge', 'notice', 'days', 'creditdebit', 'card', 'charged', 'annual', 'membership', 'notice', 'provide', 'charged', 'annual', 'membership', 'cancel', 'autorenew', 'including', 'online', 'visiting', 'account', 'ispe', 'advise', 'days', 'membership', 'expiration', 'date', 'cancel', 'autorenew', 'charged', 'receive', 'acknowledgement', 'charge', 'contact', 'information', 'notify', 'ispe', 'changes', 'email', 'address', 'payment', 'information', 'credit', 'card', 'account', 'number', 'expiration', 'date', 'etc', 'charge', 'notices', 'sent', 'street', 'email', 'address', 'provided', 'update', 'contact', 'information', 'going', 'account', 'ispe', 'update', 'payment', 'preferences', 'contact', 'member', 'services', 'askispeorg', 'payment', 'method', 'payment', 'method', 'file', 'declined', 'payment', 'membership', 'fee', 'ispe', 'contact', 'update', 'information', 'promptly', 'avoid', 'membership', 'cancellation', 'provide', 'new', 'eligible', 'payment', 'method', 'successfully', 'charged', 'new', 'membership', 'period', 'based', 'original', 'renewal', 'date', 'date', 'successful', 'charge', 'membership', 'cancellationrefund', 'policy', 'ispe', 'membership', 'individual', 'transferable', 'terminate', 'membership', 'refund', 'days', 'purchase', 'written', 'notice', 'askispeorg', 'note', 'accept', 'terminations', 'phone', 'membership', 'purchased', 'conjunction', 'conference', 'training', 'event', 'refundable', 'approved', 'cancellation', 'event', 'changes', 'member', 'type', 'requested', 'writing', 'askispeorg', 'ispe', 'follows', 'world', 'bank', '’', 's', 'guide', 'determining', 'emerging', 'economy', 'country', 'status', 'list', 'updated', 'annually', 'january', 'ispe', 'monitors', 'classification', 'changes', 'country', 'stayed', 'new', 'level', 'consecutive', 'years', 'additional', 'information', 'need', 'provided', 'writing', 'ispe', 'askispeorg', 'prefer', 'complete', 'membership', 'forms', 'mail', 'fax', 'download', 'membership', 'form', 'started']\n"
     ]
    }
   ],
   "source": [
    "# removing stop words\n",
    "from spacy.lang.en.stop_words import STOP_WORDS\n",
    "keywords=[word for word in words if word not in STOP_WORDS]\n",
    "print(keywords)"
   ]
  },
  {
   "cell_type": "code",
   "execution_count": 18,
   "metadata": {
    "colab": {
     "base_uri": "https://localhost:8080/",
     "height": 106
    },
    "colab_type": "code",
    "id": "uCgzh4i_cJMJ",
    "outputId": "ab044713-5649-4489-f5a0-c9241738b377"
   },
   "outputs": [
    {
     "name": "stdout",
     "output_type": "stream",
     "text": [
      "[nltk_data] Downloading package averaged_perceptron_tagger to\n",
      "[nltk_data]     /root/nltk_data...\n",
      "[nltk_data]   Unzipping taggers/averaged_perceptron_tagger.zip.\n",
      "[('invite', 'JJ'), ('join', 'NN'), ('largest', 'JJS'), ('notforprofit', 'JJ'), ('pharma', 'NN'), ('organization', 'NN'), ('today', 'NN'), ('pharmaceutical', 'JJ'), ('science', 'NN'), ('manufacturing', 'NN'), ('professionals', 'NNS'), ('worldwide', 'VBP'), ('know', 'VBP'), ('best', 'JJS'), ('way', 'NN'), ('advance', 'JJ'), ('professional', 'JJ'), ('technical', 'JJ'), ('proficiency', 'NN'), ('ispe', 'NN'), ('membership', 'NN'), ('select', 'JJ'), ('appropriate', 'JJ'), ('membership', 'NN'), ('type', 'JJ'), ('submit', 'NN'), ('membership', 'NN'), ('application', 'NN'), ('joining', 'VBG'), ('renewing', 'VBG'), ('members', 'NNS'), ('agree', 'VBP'), ('uphold', 'JJ'), ('abide', 'NN'), ('ispe', 'NN'), ('code', 'NN'), ('conduct', 'NN'), ('prices', 'NNS'), ('valid', 'JJ'), ('december', 'VBP'), ('ispe', 'JJ'), ('membership', 'NN'), ('individual', 'JJ'), ('nontransferable', 'JJ'), ('time', 'NN'), ('renew', 'VB'), ('check', 'NN'), ('renewal', 'NN'), ('status', 'NN'), ('new', 'JJ'), ('members', 'NNS'), ('started', 'VBD'), ('choosing', 'VBG'), ('member', 'NN'), ('type', 'NN'), ('members', 'NNS'), ('vote', 'VBP'), ('matters', 'NNS'), ('pending', 'VBG'), ('society', 'NN'), ('hold', 'NN'), ('office', 'NN'), ('serve', 'NN'), ('committees', 'NNS'), ('memberships', 'VBP'), ('individual', 'JJ'), ('transferable', 'JJ'), ('professionals', 'NNS'), ('working', 'VBG'), ('studying', 'VBG'), ('pharmaceutical', 'JJ'), ('biopharmaceutical', 'JJ'), ('manufacturing', 'NN'), ('industry', 'NN'), ('virtue', 'NN'), ('joining', 'VBG'), ('ispe', 'JJ'), ('member', 'NN'), ('members', 'NNS'), ('agree', 'VBP'), ('receive', 'JJ'), ('communications', 'NNS'), ('ispe', 'VBP'), ('ispe', 'JJ'), ('membership', 'NN'), ('autorenew', 'VBD'), ('convenience', 'NN'), ('members', 'NNS'), ('ispe', 'VBP'), ('offers', 'NNS'), ('autorenewal', 'VBP'), ('option', 'NN'), ('managing', 'VBG'), ('membership', 'NN'), ('autorenew', 'VBD'), ('ispe', 'JJ'), ('membership', 'NN'), ('associated', 'VBN'), ('benefits', 'NNS'), ('lapse', 'JJ'), ('payment', 'NN'), ('process', 'NN'), ('automatically', 'RB'), ('renews', 'VBZ'), ('year', 'NN'), ('freeing', 'VBG'), ('having', 'VBG'), ('resubmit', 'NN'), ('renewal', 'JJ'), ('payment', 'NN'), ('information', 'NN'), ('avoid', 'NN'), ('multiple', 'NN'), ('renewal', 'NN'), ('notices', 'NNS'), ('marketing', 'NN'), ('communications', 'NNS'), ('autorenew', 'VBP'), ('allows', 'VBZ'), ('members', 'NNS'), ('pay', 'VBP'), ('directly', 'RB'), ('creditdebit', 'JJ'), ('card', 'NN'), ('account', 'NN'), ('signing', 'VBG'), ('autorenew', 'JJ'), ('authorize', 'JJ'), ('ispe', 'JJ'), ('charge', 'NN'), ('creditdebit', 'NN'), ('card', 'NN'), ('file', 'NN'), ('days', 'NNS'), ('membership', 'NN'), ('expiration', 'NN'), ('date', 'NN'), ('choose', 'JJ'), ('turn', 'VB'), ('autorenew', 'JJ'), ('time', 'NN'), ('visiting', 'VBG'), ('account', 'NN'), ('ispe', 'NN'), ('renewal', 'NN'), ('date', 'NN'), ('account', 'NN'), ('change', 'NN'), ('payment', 'NN'), ('method', 'NN'), ('address', 'NN'), ('information', 'NN'), ('cancel', 'NN'), ('membership', 'NN'), ('youre', 'NN'), ('automatically', 'RB'), ('billed', 'JJ'), ('term', 'NN'), ('note', 'NN'), ('notify', 'JJ'), ('days', 'NNS'), ('membership', 'NN'), ('expiration', 'NN'), ('date', 'NN'), ('want', 'VBP'), ('cancel', 'NN'), ('want', 'VBP'), ('autorenew', 'JJ'), ('understand', 'JJ'), ('membership', 'NN'), ('automatically', 'RB'), ('renew', 'JJ'), ('year', 'NN'), ('authorize', 'JJ'), ('notice', 'NN'), ('required', 'VBN'), ('applicable', 'JJ'), ('law', 'NN'), ('collect', 'NN'), ('thenapplicable', 'JJ'), ('membership', 'NN'), ('price', 'NN'), ('payment', 'NN'), ('method', 'NN'), ('record', 'NN'), ('membership', 'NN'), ('autorenew', 'VBD'), ('acknowledgment', 'JJ'), ('instead', 'RB'), ('receiving', 'VBG'), ('annual', 'JJ'), ('renewal', 'NN'), ('notice', 'RB'), ('receive', 'JJ'), ('upcoming', 'VBG'), ('charge', 'NN'), ('notice', 'JJ'), ('days', 'NNS'), ('creditdebit', 'VBP'), ('card', 'JJ'), ('charged', 'VBN'), ('annual', 'JJ'), ('membership', 'NN'), ('notice', 'JJ'), ('provide', 'RB'), ('charged', 'VBN'), ('annual', 'JJ'), ('membership', 'NN'), ('cancel', 'JJ'), ('autorenew', 'RB'), ('including', 'VBG'), ('online', 'JJ'), ('visiting', 'VBG'), ('account', 'NN'), ('ispe', 'JJ'), ('advise', 'NN'), ('days', 'NNS'), ('membership', 'NN'), ('expiration', 'NN'), ('date', 'NN'), ('cancel', 'NN'), ('autorenew', 'NN'), ('charged', 'VBN'), ('receive', 'JJ'), ('acknowledgement', 'JJ'), ('charge', 'NN'), ('contact', 'NN'), ('information', 'NN'), ('notify', 'FW'), ('ispe', 'NN'), ('changes', 'NNS'), ('email', 'VBP'), ('address', 'JJ'), ('payment', 'NN'), ('information', 'NN'), ('credit', 'NN'), ('card', 'NN'), ('account', 'NN'), ('number', 'NN'), ('expiration', 'NN'), ('date', 'NN'), ('etc', 'FW'), ('charge', 'NN'), ('notices', 'NNS'), ('sent', 'VBD'), ('street', 'NN'), ('email', 'NN'), ('address', 'NN'), ('provided', 'VBD'), ('update', 'JJ'), ('contact', 'NN'), ('information', 'NN'), ('going', 'VBG'), ('account', 'NN'), ('ispe', 'JJ'), ('update', 'JJ'), ('payment', 'NN'), ('preferences', 'NNS'), ('contact', 'VBP'), ('member', 'NN'), ('services', 'NNS'), ('askispeorg', 'VBP'), ('payment', 'NN'), ('method', 'NN'), ('payment', 'NN'), ('method', 'NN'), ('file', 'NN'), ('declined', 'VBD'), ('payment', 'NN'), ('membership', 'NN'), ('fee', 'NN'), ('ispe', 'NN'), ('contact', 'NN'), ('update', 'JJ'), ('information', 'NN'), ('promptly', 'RB'), ('avoid', 'VBZ'), ('membership', 'NN'), ('cancellation', 'NN'), ('provide', 'VBP'), ('new', 'JJ'), ('eligible', 'JJ'), ('payment', 'NN'), ('method', 'NN'), ('successfully', 'RB'), ('charged', 'VBD'), ('new', 'JJ'), ('membership', 'NN'), ('period', 'NN'), ('based', 'VBN'), ('original', 'JJ'), ('renewal', 'NN'), ('date', 'NN'), ('date', 'NN'), ('successful', 'JJ'), ('charge', 'NN'), ('membership', 'NN'), ('cancellationrefund', 'NN'), ('policy', 'NN'), ('ispe', 'NN'), ('membership', 'NN'), ('individual', 'JJ'), ('transferable', 'JJ'), ('terminate', 'NN'), ('membership', 'NN'), ('refund', 'NN'), ('days', 'NNS'), ('purchase', 'VBP'), ('written', 'VBN'), ('notice', 'JJ'), ('askispeorg', 'NNS'), ('note', 'VBP'), ('accept', 'JJ'), ('terminations', 'NNS'), ('phone', 'NN'), ('membership', 'NN'), ('purchased', 'VBD'), ('conjunction', 'NN'), ('conference', 'NN'), ('training', 'NN'), ('event', 'NN'), ('refundable', 'JJ'), ('approved', 'VBN'), ('cancellation', 'NN'), ('event', 'NN'), ('changes', 'NNS'), ('member', 'NN'), ('type', 'NN'), ('requested', 'VBD'), ('writing', 'VBG'), ('askispeorg', 'JJ'), ('ispe', 'NN'), ('follows', 'VBZ'), ('world', 'NN'), ('bank', 'NN'), ('’', 'NNP'), ('s', 'VBD'), ('guide', 'JJ'), ('determining', 'VBG'), ('emerging', 'VBG'), ('economy', 'NN'), ('country', 'NN'), ('status', 'NN'), ('list', 'NN'), ('updated', 'VBN'), ('annually', 'RB'), ('january', 'JJ'), ('ispe', 'NN'), ('monitors', 'NNS'), ('classification', 'NN'), ('changes', 'NNS'), ('country', 'NN'), ('stayed', 'VBD'), ('new', 'JJ'), ('level', 'NN'), ('consecutive', 'JJ'), ('years', 'NNS'), ('additional', 'JJ'), ('information', 'NN'), ('need', 'NN'), ('provided', 'VBD'), ('writing', 'VBG'), ('ispe', 'JJ'), ('askispeorg', 'JJ'), ('prefer', 'VBP'), ('complete', 'JJ'), ('membership', 'NN'), ('forms', 'NNS'), ('mail', 'VBP'), ('fax', 'NN'), ('download', 'NN'), ('membership', 'NN'), ('form', 'NN'), ('started', 'VBD')]\n"
     ]
    }
   ],
   "source": [
    "nltk.download('averaged_perceptron_tagger')\n",
    "pos_keywords=nltk.pos_tag(keywords)\n",
    "print(pos_keywords)"
   ]
  },
  {
   "cell_type": "code",
   "execution_count": 19,
   "metadata": {
    "colab": {},
    "colab_type": "code",
    "id": "NFON3GdMmtTh"
   },
   "outputs": [],
   "source": [
    "nouns=[]\n",
    "pronouns=[]\n",
    "verbs=[]\n",
    "adjectives=[]\n",
    "adverbs=[]\n",
    "prepositions=[]\n",
    "conjunctions=[]\n",
    "interjections=[]\n",
    "\n",
    "for (word,tag) in pos_keywords:\n",
    "   if tag.startswith('N'):\n",
    "      nouns.append((word,tag))\n",
    "   if tag.startswith('PR'):\n",
    "      pronouns.append((word,tag))\n",
    "   if tag.startswith('V'):\n",
    "      verbs.append((word,tag))\n",
    "   if tag.startswith('JJ'):\n",
    "      adjectives.append((word,tag))\n",
    "   if tag.startswith('RB') or tag==\"WRB\":\n",
    "      adverbs.append((word,tag))\n",
    "   if tag.startswith('IN'):\n",
    "      conjunctions.append((word,tag))\n",
    "   if tag.startswith('CC'):\n",
    "      conjuncions.append((word,tag))\n",
    "   if tag.startswith('UH'):\n",
    "      interjunctions.append((word,tag))"
   ]
  },
  {
   "cell_type": "code",
   "execution_count": 20,
   "metadata": {
    "colab": {
     "base_uri": "https://localhost:8080/",
     "height": 124
    },
    "colab_type": "code",
    "id": "8aRCHe-ZpcfC",
    "outputId": "718c2279-5b9e-4d90-9072-890052ab5cd8"
   },
   "outputs": [
    {
     "name": "stdout",
     "output_type": "stream",
     "text": [
      "[('join', 'NN'), ('pharma', 'NN'), ('organization', 'NN'), ('today', 'NN'), ('science', 'NN'), ('manufacturing', 'NN'), ('professionals', 'NNS'), ('way', 'NN'), ('proficiency', 'NN'), ('ispe', 'NN'), ('membership', 'NN'), ('membership', 'NN'), ('submit', 'NN'), ('membership', 'NN'), ('application', 'NN'), ('members', 'NNS'), ('abide', 'NN'), ('ispe', 'NN'), ('code', 'NN'), ('conduct', 'NN'), ('prices', 'NNS'), ('membership', 'NN'), ('time', 'NN'), ('check', 'NN'), ('renewal', 'NN'), ('status', 'NN'), ('members', 'NNS'), ('member', 'NN'), ('type', 'NN'), ('members', 'NNS'), ('matters', 'NNS'), ('society', 'NN'), ('hold', 'NN'), ('office', 'NN'), ('serve', 'NN'), ('committees', 'NNS'), ('professionals', 'NNS'), ('manufacturing', 'NN'), ('industry', 'NN'), ('virtue', 'NN'), ('member', 'NN'), ('members', 'NNS'), ('communications', 'NNS'), ('membership', 'NN'), ('convenience', 'NN'), ('members', 'NNS'), ('offers', 'NNS'), ('option', 'NN'), ('membership', 'NN'), ('membership', 'NN'), ('benefits', 'NNS'), ('payment', 'NN'), ('process', 'NN'), ('year', 'NN'), ('resubmit', 'NN'), ('payment', 'NN'), ('information', 'NN'), ('avoid', 'NN'), ('multiple', 'NN'), ('renewal', 'NN'), ('notices', 'NNS'), ('marketing', 'NN'), ('communications', 'NNS'), ('members', 'NNS'), ('card', 'NN'), ('account', 'NN'), ('charge', 'NN'), ('creditdebit', 'NN'), ('card', 'NN'), ('file', 'NN'), ('days', 'NNS'), ('membership', 'NN'), ('expiration', 'NN'), ('date', 'NN'), ('time', 'NN'), ('account', 'NN'), ('ispe', 'NN'), ('renewal', 'NN'), ('date', 'NN'), ('account', 'NN'), ('change', 'NN'), ('payment', 'NN'), ('method', 'NN'), ('address', 'NN'), ('information', 'NN'), ('cancel', 'NN'), ('membership', 'NN'), ('youre', 'NN'), ('term', 'NN'), ('note', 'NN'), ('days', 'NNS'), ('membership', 'NN'), ('expiration', 'NN'), ('date', 'NN'), ('cancel', 'NN'), ('membership', 'NN'), ('year', 'NN'), ('notice', 'NN'), ('law', 'NN'), ('collect', 'NN'), ('membership', 'NN'), ('price', 'NN'), ('payment', 'NN'), ('method', 'NN'), ('record', 'NN'), ('membership', 'NN'), ('renewal', 'NN'), ('charge', 'NN'), ('days', 'NNS'), ('membership', 'NN'), ('membership', 'NN'), ('account', 'NN'), ('advise', 'NN'), ('days', 'NNS'), ('membership', 'NN'), ('expiration', 'NN'), ('date', 'NN'), ('cancel', 'NN'), ('autorenew', 'NN'), ('charge', 'NN'), ('contact', 'NN'), ('information', 'NN'), ('ispe', 'NN'), ('changes', 'NNS'), ('payment', 'NN'), ('information', 'NN'), ('credit', 'NN'), ('card', 'NN'), ('account', 'NN'), ('number', 'NN'), ('expiration', 'NN'), ('date', 'NN'), ('charge', 'NN'), ('notices', 'NNS'), ('street', 'NN'), ('email', 'NN'), ('address', 'NN'), ('contact', 'NN'), ('information', 'NN'), ('account', 'NN'), ('payment', 'NN'), ('preferences', 'NNS'), ('member', 'NN'), ('services', 'NNS'), ('payment', 'NN'), ('method', 'NN'), ('payment', 'NN'), ('method', 'NN'), ('file', 'NN'), ('payment', 'NN'), ('membership', 'NN'), ('fee', 'NN'), ('ispe', 'NN'), ('contact', 'NN'), ('information', 'NN'), ('membership', 'NN'), ('cancellation', 'NN'), ('payment', 'NN'), ('method', 'NN'), ('membership', 'NN'), ('period', 'NN'), ('renewal', 'NN'), ('date', 'NN'), ('date', 'NN'), ('charge', 'NN'), ('membership', 'NN'), ('cancellationrefund', 'NN'), ('policy', 'NN'), ('ispe', 'NN'), ('membership', 'NN'), ('terminate', 'NN'), ('membership', 'NN'), ('refund', 'NN'), ('days', 'NNS'), ('askispeorg', 'NNS'), ('terminations', 'NNS'), ('phone', 'NN'), ('membership', 'NN'), ('conjunction', 'NN'), ('conference', 'NN'), ('training', 'NN'), ('event', 'NN'), ('cancellation', 'NN'), ('event', 'NN'), ('changes', 'NNS'), ('member', 'NN'), ('type', 'NN'), ('ispe', 'NN'), ('world', 'NN'), ('bank', 'NN'), ('’', 'NNP'), ('economy', 'NN'), ('country', 'NN'), ('status', 'NN'), ('list', 'NN'), ('ispe', 'NN'), ('monitors', 'NNS'), ('classification', 'NN'), ('changes', 'NNS'), ('country', 'NN'), ('level', 'NN'), ('years', 'NNS'), ('information', 'NN'), ('need', 'NN'), ('membership', 'NN'), ('forms', 'NNS'), ('fax', 'NN'), ('download', 'NN'), ('membership', 'NN'), ('form', 'NN')] 210\n",
      "[('worldwide', 'VBP'), ('know', 'VBP'), ('joining', 'VBG'), ('renewing', 'VBG'), ('agree', 'VBP'), ('december', 'VBP'), ('renew', 'VB'), ('started', 'VBD'), ('choosing', 'VBG'), ('vote', 'VBP'), ('pending', 'VBG'), ('memberships', 'VBP'), ('working', 'VBG'), ('studying', 'VBG'), ('joining', 'VBG'), ('agree', 'VBP'), ('ispe', 'VBP'), ('autorenew', 'VBD'), ('ispe', 'VBP'), ('autorenewal', 'VBP'), ('managing', 'VBG'), ('autorenew', 'VBD'), ('associated', 'VBN'), ('renews', 'VBZ'), ('freeing', 'VBG'), ('having', 'VBG'), ('autorenew', 'VBP'), ('allows', 'VBZ'), ('pay', 'VBP'), ('signing', 'VBG'), ('turn', 'VB'), ('visiting', 'VBG'), ('want', 'VBP'), ('want', 'VBP'), ('required', 'VBN'), ('autorenew', 'VBD'), ('receiving', 'VBG'), ('upcoming', 'VBG'), ('creditdebit', 'VBP'), ('charged', 'VBN'), ('charged', 'VBN'), ('including', 'VBG'), ('visiting', 'VBG'), ('charged', 'VBN'), ('email', 'VBP'), ('sent', 'VBD'), ('provided', 'VBD'), ('going', 'VBG'), ('contact', 'VBP'), ('askispeorg', 'VBP'), ('declined', 'VBD'), ('avoid', 'VBZ'), ('provide', 'VBP'), ('charged', 'VBD'), ('based', 'VBN'), ('purchase', 'VBP'), ('written', 'VBN'), ('note', 'VBP'), ('purchased', 'VBD'), ('approved', 'VBN'), ('requested', 'VBD'), ('writing', 'VBG'), ('follows', 'VBZ'), ('s', 'VBD'), ('determining', 'VBG'), ('emerging', 'VBG'), ('updated', 'VBN'), ('stayed', 'VBD'), ('provided', 'VBD'), ('writing', 'VBG'), ('prefer', 'VBP'), ('mail', 'VBP'), ('started', 'VBD')] 73\n",
      "[('invite', 'JJ'), ('largest', 'JJS'), ('notforprofit', 'JJ'), ('pharmaceutical', 'JJ'), ('best', 'JJS'), ('advance', 'JJ'), ('professional', 'JJ'), ('technical', 'JJ'), ('select', 'JJ'), ('appropriate', 'JJ'), ('type', 'JJ'), ('uphold', 'JJ'), ('valid', 'JJ'), ('ispe', 'JJ'), ('individual', 'JJ'), ('nontransferable', 'JJ'), ('new', 'JJ'), ('individual', 'JJ'), ('transferable', 'JJ'), ('pharmaceutical', 'JJ'), ('biopharmaceutical', 'JJ'), ('ispe', 'JJ'), ('receive', 'JJ'), ('ispe', 'JJ'), ('ispe', 'JJ'), ('lapse', 'JJ'), ('renewal', 'JJ'), ('creditdebit', 'JJ'), ('autorenew', 'JJ'), ('authorize', 'JJ'), ('ispe', 'JJ'), ('choose', 'JJ'), ('autorenew', 'JJ'), ('billed', 'JJ'), ('notify', 'JJ'), ('autorenew', 'JJ'), ('understand', 'JJ'), ('renew', 'JJ'), ('authorize', 'JJ'), ('applicable', 'JJ'), ('thenapplicable', 'JJ'), ('acknowledgment', 'JJ'), ('annual', 'JJ'), ('receive', 'JJ'), ('notice', 'JJ'), ('card', 'JJ'), ('annual', 'JJ'), ('notice', 'JJ'), ('annual', 'JJ'), ('cancel', 'JJ'), ('online', 'JJ'), ('ispe', 'JJ'), ('receive', 'JJ'), ('acknowledgement', 'JJ'), ('address', 'JJ'), ('update', 'JJ'), ('ispe', 'JJ'), ('update', 'JJ'), ('update', 'JJ'), ('new', 'JJ'), ('eligible', 'JJ'), ('new', 'JJ'), ('original', 'JJ'), ('successful', 'JJ'), ('individual', 'JJ'), ('transferable', 'JJ'), ('notice', 'JJ'), ('accept', 'JJ'), ('refundable', 'JJ'), ('askispeorg', 'JJ'), ('guide', 'JJ'), ('january', 'JJ'), ('new', 'JJ'), ('consecutive', 'JJ'), ('additional', 'JJ'), ('ispe', 'JJ'), ('askispeorg', 'JJ'), ('complete', 'JJ')] 78\n",
      "[] 0\n",
      "[('automatically', 'RB'), ('directly', 'RB'), ('automatically', 'RB'), ('automatically', 'RB'), ('instead', 'RB'), ('notice', 'RB'), ('provide', 'RB'), ('autorenew', 'RB'), ('promptly', 'RB'), ('successfully', 'RB'), ('annually', 'RB')] 11\n"
     ]
    }
   ],
   "source": [
    "# Word POS_Tag and Count\n",
    "print(nouns,len(nouns))\n",
    "print(verbs,len(verbs))\n",
    "print(adjectives,len(adjectives))\n",
    "print(pronouns,len(pronouns))\n",
    "print(adverbs,len(adverbs))\n",
    "# print(prepositions,len(prepositions))\n",
    "# print(conjunctions,len(conjunctions))\n",
    "# print(interjections,len(interjections))"
   ]
  },
  {
   "cell_type": "code",
   "execution_count": null,
   "metadata": {
    "colab": {},
    "colab_type": "code",
    "id": "GVWeuhogpmYu"
   },
   "outputs": [],
   "source": []
  }
 ],
 "metadata": {
  "colab": {
   "collapsed_sections": [],
   "name": "POS_Tagging_News_Article.ipynb",
   "provenance": []
  },
  "kernelspec": {
   "display_name": "Python 3",
   "language": "python",
   "name": "python3"
  },
  "language_info": {
   "codemirror_mode": {
    "name": "ipython",
    "version": 3
   },
   "file_extension": ".py",
   "mimetype": "text/x-python",
   "name": "python",
   "nbconvert_exporter": "python",
   "pygments_lexer": "ipython3",
   "version": "3.7.3"
  }
 },
 "nbformat": 4,
 "nbformat_minor": 1
}
